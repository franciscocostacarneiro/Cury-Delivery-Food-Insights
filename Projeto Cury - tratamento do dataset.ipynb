{
 "cells": [
  {
   "cell_type": "markdown",
   "id": "b0252f8e-7321-4df0-864c-954eb5cc6d49",
   "metadata": {
    "tags": []
   },
   "source": [
    "# Aula 47 - Projeto Cury de entregas - Streamlit Visão Empresa"
   ]
  },
  {
   "cell_type": "markdown",
   "id": "97c25fc8-459e-4a1c-b6f7-663d79aff4ed",
   "metadata": {},
   "source": [
    "## Problema de negócio"
   ]
  },
  {
   "cell_type": "markdown",
   "id": "27a8e3e3-d588-479b-a05f-7eddc19623b2",
   "metadata": {},
   "source": [
    "A Cury Company é uma empresa de tecnologia que criou um aplicativo que conecta\n",
    "restaurantes, entregadores e pessoas.<br><br>\n",
    "Através desse aplicativo, é possível realizar o pedido de uma refeição, em qualquer\n",
    "restaurante cadastrado, e recebê-lo no conforto da sua casa por um entregador\n",
    "também cadastrado no aplicativo da Cury Company.<br><br>\n",
    "A empresa realiza negócios entre restaurantes, entregadores e pessoas, e gera\n",
    "muitos dados sobre entregas, tipos de pedidos, condições climáticas, avaliação dos\n",
    "entregadores e etc. Apesar da entrega estar crescento, em termos de entregas, o\n",
    "CEO não tem visibilidade completa dos KPIs de crescimento da empresa.<br><br>\n",
    "Você foi contratado como um Cientista de Dados para criar soluções de dados para\n",
    "entrega, mas antes de treinar algoritmos, a necessidade da empresa é ter um os\n",
    "principais KPIs estratégicos organizados em uma única ferramenta, para que o CEO\n",
    "possa consultar e conseguir tomar decisões simples, porém importantes.<br><br>\n",
    "A Cury Company possui um modelo de negócio chamado Marketplace, que fazer o\n",
    "intermédio do negócio entre três clientes principais:<br> Restaurantes;<br> entregadores;<br> e\n",
    "pessoas compradoras."
   ]
  },
  {
   "cell_type": "markdown",
   "id": "09e0d90f",
   "metadata": {
    "tags": []
   },
   "source": [
    "## 1. Planejamento do projeto e limpeza do dataset"
   ]
  },
  {
   "cell_type": "markdown",
   "id": "ec0c2e11",
   "metadata": {},
   "source": [
    "### A visão: Crescimento"
   ]
  },
  {
   "cell_type": "markdown",
   "id": "00cc4689",
   "metadata": {},
   "source": [
    "### Do lado da empresa:"
   ]
  },
  {
   "cell_type": "markdown",
   "id": "1ffe7346",
   "metadata": {},
   "source": [
    "Iremos criar um dashboard da visão da empresa no Streamlit"
   ]
  },
  {
   "cell_type": "markdown",
   "id": "0ae47355",
   "metadata": {
    "tags": []
   },
   "source": [
    "## <u>2. Execução do projeto - Streamlit"
   ]
  },
  {
   "cell_type": "markdown",
   "id": "4bb1139a",
   "metadata": {
    "tags": []
   },
   "source": [
    "### <u>2.1. Data extract"
   ]
  },
  {
   "cell_type": "markdown",
   "id": "6cce262f",
   "metadata": {},
   "source": [
    "#### 2.1.1. Requerimentos"
   ]
  },
  {
   "cell_type": "code",
   "execution_count": 2,
   "id": "c7c50f9a",
   "metadata": {
    "ExecuteTime": {
     "end_time": "2022-12-17T13:21:03.649651Z",
     "start_time": "2022-12-17T13:21:02.269340Z"
    }
   },
   "outputs": [],
   "source": [
    "import pandas as pd\n",
    "import numpy as np\n",
    "from datetime import datetime\n",
    "import re\n",
    "import plotly.express as px\n",
    "from matplotlib import pyplot as plt\n",
    "import folium\n",
    "from haversine import haversine #biblioteca para o cálculo das distâncias entre latitudes e longitudes"
   ]
  },
  {
   "cell_type": "markdown",
   "id": "97199f16",
   "metadata": {},
   "source": [
    "#### 2.1.2. Helper functions"
   ]
  },
  {
   "cell_type": "code",
   "execution_count": 3,
   "id": "18cffc89",
   "metadata": {
    "ExecuteTime": {
     "end_time": "2022-12-17T13:21:03.665172Z",
     "start_time": "2022-12-17T13:21:03.651652Z"
    }
   },
   "outputs": [],
   "source": [
    "#Transformação de casas decimais das notações científicas \n",
    "pd.set_option('display.float_format', lambda x: '%.2f' % x)\n",
    "\n",
    "#Dimensionamento do dataset\n",
    "def dimensionamento(dataframe):\n",
    "    print(f\"O dataset tem {dataframe.shape[0]} linhas.\")\n",
    "    print(f\"O dataset tem {dataframe.shape[1]} colunas.\")\n",
    "    return None\n",
    "\n",
    "#Tratamento do espaçamento no dados do tipo string - sem loop for\n",
    "def space_clean(dataframe, coluna):\n",
    "    dataframe.loc[:, coluna] = dataframe.loc[:, coluna].str.strip()"
   ]
  },
  {
   "cell_type": "markdown",
   "id": "a93451b2",
   "metadata": {},
   "source": [
    "#### 2.1.3. Data load"
   ]
  },
  {
   "cell_type": "code",
   "execution_count": 4,
   "id": "1f51d347",
   "metadata": {
    "ExecuteTime": {
     "end_time": "2022-12-17T13:21:04.364657Z",
     "start_time": "2022-12-17T13:21:04.218892Z"
    }
   },
   "outputs": [],
   "source": [
    "data = pd.read_csv(\"../Datasets/train.csv\")"
   ]
  },
  {
   "cell_type": "code",
   "execution_count": 5,
   "id": "923da809",
   "metadata": {
    "ExecuteTime": {
     "end_time": "2022-12-17T13:21:05.478057Z",
     "start_time": "2022-12-17T13:21:05.444592Z"
    }
   },
   "outputs": [
    {
     "data": {
      "text/html": [
       "<div>\n",
       "<style scoped>\n",
       "    .dataframe tbody tr th:only-of-type {\n",
       "        vertical-align: middle;\n",
       "    }\n",
       "\n",
       "    .dataframe tbody tr th {\n",
       "        vertical-align: top;\n",
       "    }\n",
       "\n",
       "    .dataframe thead th {\n",
       "        text-align: right;\n",
       "    }\n",
       "</style>\n",
       "<table border=\"1\" class=\"dataframe\">\n",
       "  <thead>\n",
       "    <tr style=\"text-align: right;\">\n",
       "      <th></th>\n",
       "      <th>ID</th>\n",
       "      <th>Delivery_person_ID</th>\n",
       "      <th>Delivery_person_Age</th>\n",
       "      <th>Delivery_person_Ratings</th>\n",
       "      <th>Restaurant_latitude</th>\n",
       "      <th>Restaurant_longitude</th>\n",
       "      <th>Delivery_location_latitude</th>\n",
       "      <th>Delivery_location_longitude</th>\n",
       "      <th>Order_Date</th>\n",
       "      <th>Time_Orderd</th>\n",
       "      <th>Time_Order_picked</th>\n",
       "      <th>Weatherconditions</th>\n",
       "      <th>Road_traffic_density</th>\n",
       "      <th>Vehicle_condition</th>\n",
       "      <th>Type_of_order</th>\n",
       "      <th>Type_of_vehicle</th>\n",
       "      <th>multiple_deliveries</th>\n",
       "      <th>Festival</th>\n",
       "      <th>City</th>\n",
       "      <th>Time_taken(min)</th>\n",
       "    </tr>\n",
       "  </thead>\n",
       "  <tbody>\n",
       "    <tr>\n",
       "      <th>0</th>\n",
       "      <td>0x4607</td>\n",
       "      <td>INDORES13DEL02</td>\n",
       "      <td>37</td>\n",
       "      <td>4.9</td>\n",
       "      <td>22.75</td>\n",
       "      <td>75.89</td>\n",
       "      <td>22.77</td>\n",
       "      <td>75.91</td>\n",
       "      <td>19-03-2022</td>\n",
       "      <td>11:30:00</td>\n",
       "      <td>11:45:00</td>\n",
       "      <td>conditions Sunny</td>\n",
       "      <td>High</td>\n",
       "      <td>2</td>\n",
       "      <td>Snack</td>\n",
       "      <td>motorcycle</td>\n",
       "      <td>0</td>\n",
       "      <td>No</td>\n",
       "      <td>Urban</td>\n",
       "      <td>(min) 24</td>\n",
       "    </tr>\n",
       "    <tr>\n",
       "      <th>1</th>\n",
       "      <td>0xb379</td>\n",
       "      <td>BANGRES18DEL02</td>\n",
       "      <td>34</td>\n",
       "      <td>4.5</td>\n",
       "      <td>12.91</td>\n",
       "      <td>77.68</td>\n",
       "      <td>13.04</td>\n",
       "      <td>77.81</td>\n",
       "      <td>25-03-2022</td>\n",
       "      <td>19:45:00</td>\n",
       "      <td>19:50:00</td>\n",
       "      <td>conditions Stormy</td>\n",
       "      <td>Jam</td>\n",
       "      <td>2</td>\n",
       "      <td>Snack</td>\n",
       "      <td>scooter</td>\n",
       "      <td>1</td>\n",
       "      <td>No</td>\n",
       "      <td>Metropolitian</td>\n",
       "      <td>(min) 33</td>\n",
       "    </tr>\n",
       "    <tr>\n",
       "      <th>2</th>\n",
       "      <td>0x5d6d</td>\n",
       "      <td>BANGRES19DEL01</td>\n",
       "      <td>23</td>\n",
       "      <td>4.4</td>\n",
       "      <td>12.91</td>\n",
       "      <td>77.68</td>\n",
       "      <td>12.92</td>\n",
       "      <td>77.69</td>\n",
       "      <td>19-03-2022</td>\n",
       "      <td>08:30:00</td>\n",
       "      <td>08:45:00</td>\n",
       "      <td>conditions Sandstorms</td>\n",
       "      <td>Low</td>\n",
       "      <td>0</td>\n",
       "      <td>Drinks</td>\n",
       "      <td>motorcycle</td>\n",
       "      <td>1</td>\n",
       "      <td>No</td>\n",
       "      <td>Urban</td>\n",
       "      <td>(min) 26</td>\n",
       "    </tr>\n",
       "    <tr>\n",
       "      <th>3</th>\n",
       "      <td>0x7a6a</td>\n",
       "      <td>COIMBRES13DEL02</td>\n",
       "      <td>38</td>\n",
       "      <td>4.7</td>\n",
       "      <td>11.00</td>\n",
       "      <td>76.98</td>\n",
       "      <td>11.05</td>\n",
       "      <td>77.03</td>\n",
       "      <td>05-04-2022</td>\n",
       "      <td>18:00:00</td>\n",
       "      <td>18:10:00</td>\n",
       "      <td>conditions Sunny</td>\n",
       "      <td>Medium</td>\n",
       "      <td>0</td>\n",
       "      <td>Buffet</td>\n",
       "      <td>motorcycle</td>\n",
       "      <td>1</td>\n",
       "      <td>No</td>\n",
       "      <td>Metropolitian</td>\n",
       "      <td>(min) 21</td>\n",
       "    </tr>\n",
       "    <tr>\n",
       "      <th>4</th>\n",
       "      <td>0x70a2</td>\n",
       "      <td>CHENRES12DEL01</td>\n",
       "      <td>32</td>\n",
       "      <td>4.6</td>\n",
       "      <td>12.97</td>\n",
       "      <td>80.25</td>\n",
       "      <td>13.01</td>\n",
       "      <td>80.29</td>\n",
       "      <td>26-03-2022</td>\n",
       "      <td>13:30:00</td>\n",
       "      <td>13:45:00</td>\n",
       "      <td>conditions Cloudy</td>\n",
       "      <td>High</td>\n",
       "      <td>1</td>\n",
       "      <td>Snack</td>\n",
       "      <td>scooter</td>\n",
       "      <td>1</td>\n",
       "      <td>No</td>\n",
       "      <td>Metropolitian</td>\n",
       "      <td>(min) 30</td>\n",
       "    </tr>\n",
       "  </tbody>\n",
       "</table>\n",
       "</div>"
      ],
      "text/plain": [
       "        ID Delivery_person_ID Delivery_person_Age Delivery_person_Ratings  \\\n",
       "0  0x4607     INDORES13DEL02                   37                     4.9   \n",
       "1  0xb379     BANGRES18DEL02                   34                     4.5   \n",
       "2  0x5d6d     BANGRES19DEL01                   23                     4.4   \n",
       "3  0x7a6a    COIMBRES13DEL02                   38                     4.7   \n",
       "4  0x70a2     CHENRES12DEL01                   32                     4.6   \n",
       "\n",
       "   Restaurant_latitude  Restaurant_longitude  Delivery_location_latitude  \\\n",
       "0                22.75                 75.89                       22.77   \n",
       "1                12.91                 77.68                       13.04   \n",
       "2                12.91                 77.68                       12.92   \n",
       "3                11.00                 76.98                       11.05   \n",
       "4                12.97                 80.25                       13.01   \n",
       "\n",
       "   Delivery_location_longitude  Order_Date Time_Orderd Time_Order_picked  \\\n",
       "0                        75.91  19-03-2022    11:30:00          11:45:00   \n",
       "1                        77.81  25-03-2022    19:45:00          19:50:00   \n",
       "2                        77.69  19-03-2022    08:30:00          08:45:00   \n",
       "3                        77.03  05-04-2022    18:00:00          18:10:00   \n",
       "4                        80.29  26-03-2022    13:30:00          13:45:00   \n",
       "\n",
       "       Weatherconditions Road_traffic_density  Vehicle_condition  \\\n",
       "0       conditions Sunny                High                   2   \n",
       "1      conditions Stormy                 Jam                   2   \n",
       "2  conditions Sandstorms                 Low                   0   \n",
       "3       conditions Sunny              Medium                   0   \n",
       "4      conditions Cloudy                High                   1   \n",
       "\n",
       "  Type_of_order Type_of_vehicle multiple_deliveries Festival            City  \\\n",
       "0        Snack      motorcycle                    0      No           Urban    \n",
       "1        Snack         scooter                    1      No   Metropolitian    \n",
       "2       Drinks      motorcycle                    1      No           Urban    \n",
       "3       Buffet      motorcycle                    1      No   Metropolitian    \n",
       "4        Snack         scooter                    1      No   Metropolitian    \n",
       "\n",
       "  Time_taken(min)  \n",
       "0        (min) 24  \n",
       "1        (min) 33  \n",
       "2        (min) 26  \n",
       "3        (min) 21  \n",
       "4        (min) 30  "
      ]
     },
     "execution_count": 5,
     "metadata": {},
     "output_type": "execute_result"
    }
   ],
   "source": [
    "data.head()"
   ]
  },
  {
   "cell_type": "markdown",
   "id": "a14b329e",
   "metadata": {
    "tags": []
   },
   "source": [
    "### <u>2.2. Data describe"
   ]
  },
  {
   "cell_type": "markdown",
   "id": "ad4390d4",
   "metadata": {},
   "source": [
    "#### 2.2.1. Data dimensions"
   ]
  },
  {
   "cell_type": "code",
   "execution_count": 6,
   "id": "76c9e93c",
   "metadata": {
    "ExecuteTime": {
     "end_time": "2022-12-17T13:21:06.330170Z",
     "start_time": "2022-12-17T13:21:06.314446Z"
    },
    "scrolled": true
   },
   "outputs": [
    {
     "name": "stdout",
     "output_type": "stream",
     "text": [
      "O dataset tem 45593 linhas.\n",
      "O dataset tem 20 colunas.\n"
     ]
    }
   ],
   "source": [
    "dimensionamento(data)"
   ]
  },
  {
   "cell_type": "code",
   "execution_count": 7,
   "id": "f86b81e5",
   "metadata": {
    "ExecuteTime": {
     "end_time": "2022-12-17T13:21:16.414553Z",
     "start_time": "2022-12-17T13:21:16.407000Z"
    }
   },
   "outputs": [
    {
     "data": {
      "text/plain": [
       "(45593, 20)"
      ]
     },
     "execution_count": 7,
     "metadata": {},
     "output_type": "execute_result"
    }
   ],
   "source": [
    "data.shape"
   ]
  },
  {
   "cell_type": "markdown",
   "id": "f445b730",
   "metadata": {},
   "source": [
    "#### 2.2.2. Limpeza dos dados"
   ]
  },
  {
   "cell_type": "markdown",
   "id": "3189c7de",
   "metadata": {},
   "source": [
    "##### 2.2.2.1. Análise e alteração dos tipos de dados"
   ]
  },
  {
   "cell_type": "markdown",
   "id": "15e71d09",
   "metadata": {},
   "source": [
    "##### 2.2.2.2. Tratamento de espaçamento em dados do tipo string"
   ]
  },
  {
   "cell_type": "markdown",
   "id": "84c8c693",
   "metadata": {},
   "source": [
    "##### 2.2.2.3. Manipulação e tratamento de dados faltantes"
   ]
  },
  {
   "cell_type": "code",
   "execution_count": 149,
   "id": "92b90497",
   "metadata": {
    "ExecuteTime": {
     "end_time": "2022-12-12T22:16:48.947324Z",
     "start_time": "2022-12-12T22:16:48.864137Z"
    },
    "scrolled": true
   },
   "outputs": [
    {
     "data": {
      "text/plain": [
       "ID                             0\n",
       "Delivery_person_ID             0\n",
       "Delivery_person_Age            0\n",
       "Delivery_person_Ratings        0\n",
       "Restaurant_latitude            0\n",
       "Restaurant_longitude           0\n",
       "Delivery_location_latitude     0\n",
       "Delivery_location_longitude    0\n",
       "Order_Date                     0\n",
       "Time_Orderd                    0\n",
       "Time_Order_picked              0\n",
       "Weatherconditions              0\n",
       "Road_traffic_density           0\n",
       "Vehicle_condition              0\n",
       "Type_of_order                  0\n",
       "Type_of_vehicle                0\n",
       "multiple_deliveries            0\n",
       "Festival                       0\n",
       "City                           0\n",
       "Time_taken(min)                0\n",
       "dtype: int64"
      ]
     },
     "execution_count": 149,
     "metadata": {},
     "output_type": "execute_result"
    }
   ],
   "source": [
    "#Modificação dos tipos dos dados\n",
    "#Feature Delivery_person_Age\n",
    "#data[\"Delivery_person_Age\"] = data[\"Delivery_person_Age\"].astype(int)\n",
    "\n",
    "#Resumo do problema: Não é possível, nesse momento, realizar a alteração do tipo de string para int, já que existem\n",
    "#valores nulos em linhas da feature. Por isso, nossa opção, nesse momento, é tratar primeiramente os valores nulos e após\n",
    "#isso alterar o tipo da coluna.\n",
    "\n",
    "#Levantamento de valores nulos:\n",
    "#Como vimos, abaixo não temlos qualquer valor nulo, mas quando tentamos acima alterar o tipo da coluna e tivemos como retorn\n",
    "#que não é possível a alteração de tipo a linhas cujo valor é nulo, tomamos por base que os valores nulos reais das linhas,\n",
    "#pelo menos na feature Delivery_person_Age, contem espaçamento. Assim, vamos buscar as linhas considerando um possível espaçamento\n",
    "#e, caso encontremos, iremos tratar esse espaçamento, para depois tratar o valor nulo.\n",
    "data.isnull().sum()"
   ]
  },
  {
   "cell_type": "code",
   "execution_count": 150,
   "id": "aa7a1200",
   "metadata": {
    "ExecuteTime": {
     "end_time": "2022-12-12T22:16:49.490610Z",
     "start_time": "2022-12-12T22:16:49.460433Z"
    },
    "scrolled": true
   },
   "outputs": [
    {
     "data": {
      "text/html": [
       "<div>\n",
       "<style scoped>\n",
       "    .dataframe tbody tr th:only-of-type {\n",
       "        vertical-align: middle;\n",
       "    }\n",
       "\n",
       "    .dataframe tbody tr th {\n",
       "        vertical-align: top;\n",
       "    }\n",
       "\n",
       "    .dataframe thead th {\n",
       "        text-align: right;\n",
       "    }\n",
       "</style>\n",
       "<table border=\"1\" class=\"dataframe\">\n",
       "  <thead>\n",
       "    <tr style=\"text-align: right;\">\n",
       "      <th></th>\n",
       "      <th>ID</th>\n",
       "      <th>Delivery_person_ID</th>\n",
       "      <th>Delivery_person_Age</th>\n",
       "      <th>Delivery_person_Ratings</th>\n",
       "      <th>Restaurant_latitude</th>\n",
       "      <th>Restaurant_longitude</th>\n",
       "      <th>Delivery_location_latitude</th>\n",
       "      <th>Delivery_location_longitude</th>\n",
       "      <th>Order_Date</th>\n",
       "      <th>Time_Orderd</th>\n",
       "      <th>Time_Order_picked</th>\n",
       "      <th>Weatherconditions</th>\n",
       "      <th>Road_traffic_density</th>\n",
       "      <th>Vehicle_condition</th>\n",
       "      <th>Type_of_order</th>\n",
       "      <th>Type_of_vehicle</th>\n",
       "      <th>multiple_deliveries</th>\n",
       "      <th>Festival</th>\n",
       "      <th>City</th>\n",
       "      <th>Time_taken(min)</th>\n",
       "    </tr>\n",
       "  </thead>\n",
       "  <tbody>\n",
       "    <tr>\n",
       "      <th>42</th>\n",
       "      <td>0x4f0</td>\n",
       "      <td>MUMRES17DEL02</td>\n",
       "      <td>NaN</td>\n",
       "      <td>NaN</td>\n",
       "      <td>19.12</td>\n",
       "      <td>72.91</td>\n",
       "      <td>19.20</td>\n",
       "      <td>72.99</td>\n",
       "      <td>06-04-2022</td>\n",
       "      <td>NaN</td>\n",
       "      <td>18:35:00</td>\n",
       "      <td>conditions Cloudy</td>\n",
       "      <td>Medium</td>\n",
       "      <td>1</td>\n",
       "      <td>Drinks</td>\n",
       "      <td>scooter</td>\n",
       "      <td>1</td>\n",
       "      <td>No</td>\n",
       "      <td>Metropolitian</td>\n",
       "      <td>(min) 33</td>\n",
       "    </tr>\n",
       "    <tr>\n",
       "      <th>74</th>\n",
       "      <td>0xa9f</td>\n",
       "      <td>BANGRES13DEL01</td>\n",
       "      <td>NaN</td>\n",
       "      <td>NaN</td>\n",
       "      <td>12.94</td>\n",
       "      <td>77.61</td>\n",
       "      <td>12.98</td>\n",
       "      <td>77.65</td>\n",
       "      <td>11-03-2022</td>\n",
       "      <td>NaN</td>\n",
       "      <td>15:30:00</td>\n",
       "      <td>conditions NaN</td>\n",
       "      <td>NaN</td>\n",
       "      <td>1</td>\n",
       "      <td>Drinks</td>\n",
       "      <td>scooter</td>\n",
       "      <td>0</td>\n",
       "      <td>No</td>\n",
       "      <td>Metropolitian</td>\n",
       "      <td>(min) 19</td>\n",
       "    </tr>\n",
       "    <tr>\n",
       "      <th>120</th>\n",
       "      <td>0x6e2</td>\n",
       "      <td>VADRES06DEL01</td>\n",
       "      <td>NaN</td>\n",
       "      <td>NaN</td>\n",
       "      <td>22.31</td>\n",
       "      <td>73.17</td>\n",
       "      <td>22.42</td>\n",
       "      <td>73.28</td>\n",
       "      <td>02-04-2022</td>\n",
       "      <td>NaN</td>\n",
       "      <td>18:25:00</td>\n",
       "      <td>conditions NaN</td>\n",
       "      <td>NaN</td>\n",
       "      <td>3</td>\n",
       "      <td>Snack</td>\n",
       "      <td>electric_scooter</td>\n",
       "      <td>0</td>\n",
       "      <td>No</td>\n",
       "      <td>Metropolitian</td>\n",
       "      <td>(min) 25</td>\n",
       "    </tr>\n",
       "    <tr>\n",
       "      <th>140</th>\n",
       "      <td>0x1ec7</td>\n",
       "      <td>PUNERES05DEL03</td>\n",
       "      <td>NaN</td>\n",
       "      <td>NaN</td>\n",
       "      <td>18.54</td>\n",
       "      <td>73.91</td>\n",
       "      <td>18.57</td>\n",
       "      <td>73.94</td>\n",
       "      <td>09-03-2022</td>\n",
       "      <td>NaN</td>\n",
       "      <td>23:40:00</td>\n",
       "      <td>conditions Stormy</td>\n",
       "      <td>Low</td>\n",
       "      <td>2</td>\n",
       "      <td>Snack</td>\n",
       "      <td>scooter</td>\n",
       "      <td>0</td>\n",
       "      <td>No</td>\n",
       "      <td>NaN</td>\n",
       "      <td>(min) 19</td>\n",
       "    </tr>\n",
       "    <tr>\n",
       "      <th>179</th>\n",
       "      <td>0x1b58</td>\n",
       "      <td>JAPRES03DEL01</td>\n",
       "      <td>NaN</td>\n",
       "      <td>NaN</td>\n",
       "      <td>26.91</td>\n",
       "      <td>75.80</td>\n",
       "      <td>26.98</td>\n",
       "      <td>75.87</td>\n",
       "      <td>12-03-2022</td>\n",
       "      <td>NaN</td>\n",
       "      <td>17:50:00</td>\n",
       "      <td>conditions Sandstorms</td>\n",
       "      <td>Medium</td>\n",
       "      <td>0</td>\n",
       "      <td>Drinks</td>\n",
       "      <td>motorcycle</td>\n",
       "      <td>0</td>\n",
       "      <td>No</td>\n",
       "      <td>Metropolitian</td>\n",
       "      <td>(min) 43</td>\n",
       "    </tr>\n",
       "  </tbody>\n",
       "</table>\n",
       "</div>"
      ],
      "text/plain": [
       "          ID Delivery_person_ID Delivery_person_Age Delivery_person_Ratings  \\\n",
       "42    0x4f0      MUMRES17DEL02                 NaN                     NaN    \n",
       "74    0xa9f     BANGRES13DEL01                 NaN                     NaN    \n",
       "120   0x6e2      VADRES06DEL01                 NaN                     NaN    \n",
       "140  0x1ec7     PUNERES05DEL03                 NaN                     NaN    \n",
       "179  0x1b58      JAPRES03DEL01                 NaN                     NaN    \n",
       "\n",
       "     Restaurant_latitude  Restaurant_longitude  Delivery_location_latitude  \\\n",
       "42                 19.12                 72.91                       19.20   \n",
       "74                 12.94                 77.61                       12.98   \n",
       "120                22.31                 73.17                       22.42   \n",
       "140                18.54                 73.91                       18.57   \n",
       "179                26.91                 75.80                       26.98   \n",
       "\n",
       "     Delivery_location_longitude  Order_Date Time_Orderd Time_Order_picked  \\\n",
       "42                         72.99  06-04-2022        NaN           18:35:00   \n",
       "74                         77.65  11-03-2022        NaN           15:30:00   \n",
       "120                        73.28  02-04-2022        NaN           18:25:00   \n",
       "140                        73.94  09-03-2022        NaN           23:40:00   \n",
       "179                        75.87  12-03-2022        NaN           17:50:00   \n",
       "\n",
       "         Weatherconditions Road_traffic_density  Vehicle_condition  \\\n",
       "42       conditions Cloudy              Medium                   1   \n",
       "74          conditions NaN                 NaN                   1   \n",
       "120         conditions NaN                 NaN                   3   \n",
       "140      conditions Stormy                 Low                   2   \n",
       "179  conditions Sandstorms              Medium                   0   \n",
       "\n",
       "    Type_of_order    Type_of_vehicle multiple_deliveries Festival  \\\n",
       "42        Drinks            scooter                    1      No    \n",
       "74        Drinks            scooter                    0      No    \n",
       "120        Snack   electric_scooter                    0      No    \n",
       "140        Snack            scooter                    0      No    \n",
       "179       Drinks         motorcycle                    0      No    \n",
       "\n",
       "               City Time_taken(min)  \n",
       "42   Metropolitian         (min) 33  \n",
       "74   Metropolitian         (min) 19  \n",
       "120  Metropolitian         (min) 25  \n",
       "140            NaN         (min) 19  \n",
       "179  Metropolitian         (min) 43  "
      ]
     },
     "execution_count": 150,
     "metadata": {},
     "output_type": "execute_result"
    }
   ],
   "source": [
    "#Avaliando a existência de espaçamentos na coluna \"Delivery_person_Age\".\n",
    "##Existem valores nulos com espaçamento e, como vimos abaixo, não é apenas essa variável que possui esse tipo de problema. \n",
    "#Assim sendo, iremos tratar todos esses espaçamentos.\n",
    "\n",
    "data.loc[data[\"Delivery_person_Age\"] == \"NaN \", :].head()\n",
    "\n",
    "##Nesse momento vimos que a coluna Weatherconditions possui valores nulos com status \"conditions NaN\". Vamos tratar também,\n",
    "#mas substituindo o que tiver esse status para um status 'NaN ', com espaçamento, para criarmos um padrão a ser ajustado\n",
    "#em outro momento. Esse tratamento específico será na próxima célula."
   ]
  },
  {
   "cell_type": "code",
   "execution_count": 151,
   "id": "8c509af8",
   "metadata": {
    "ExecuteTime": {
     "end_time": "2022-12-12T22:16:50.006024Z",
     "start_time": "2022-12-12T22:16:49.892867Z"
    }
   },
   "outputs": [],
   "source": [
    "#Tratamento dos valores nulos da feature Delivery_person_Age, Delivery_person_Ratings, Time_Orderd, Road_traffic_density e City\n",
    "#Existem valores nulos com espaçamento e, como vimos abaixo, não é apenas essa variável que possui esse tipo de problema. \n",
    "#Assim sendo, iremos tratar todos esses espaçamentos.\n",
    "space_clean(data, \"Delivery_person_Age\")\n",
    "space_clean(data, \"Delivery_person_Ratings\")\n",
    "space_clean(data, \"Time_Orderd\")\n",
    "space_clean(data, \"Road_traffic_density\")\n",
    "space_clean(data, \"multiple_deliveries\")\n",
    "space_clean(data, \"City\")\n",
    "space_clean(data, \"Type_of_vehicle\")\n",
    "space_clean(data, \"ID\")\n",
    "space_clean(data, \"Festival\")"
   ]
  },
  {
   "cell_type": "code",
   "execution_count": 152,
   "id": "206b91bc",
   "metadata": {
    "ExecuteTime": {
     "end_time": "2022-12-12T22:16:50.437403Z",
     "start_time": "2022-12-12T22:16:50.422894Z"
    }
   },
   "outputs": [
    {
     "data": {
      "text/html": [
       "<div>\n",
       "<style scoped>\n",
       "    .dataframe tbody tr th:only-of-type {\n",
       "        vertical-align: middle;\n",
       "    }\n",
       "\n",
       "    .dataframe tbody tr th {\n",
       "        vertical-align: top;\n",
       "    }\n",
       "\n",
       "    .dataframe thead th {\n",
       "        text-align: right;\n",
       "    }\n",
       "</style>\n",
       "<table border=\"1\" class=\"dataframe\">\n",
       "  <thead>\n",
       "    <tr style=\"text-align: right;\">\n",
       "      <th></th>\n",
       "      <th>ID</th>\n",
       "      <th>Delivery_person_ID</th>\n",
       "      <th>Delivery_person_Age</th>\n",
       "      <th>Delivery_person_Ratings</th>\n",
       "      <th>Restaurant_latitude</th>\n",
       "      <th>Restaurant_longitude</th>\n",
       "      <th>Delivery_location_latitude</th>\n",
       "      <th>Delivery_location_longitude</th>\n",
       "      <th>Order_Date</th>\n",
       "      <th>Time_Orderd</th>\n",
       "      <th>Time_Order_picked</th>\n",
       "      <th>Weatherconditions</th>\n",
       "      <th>Road_traffic_density</th>\n",
       "      <th>Vehicle_condition</th>\n",
       "      <th>Type_of_order</th>\n",
       "      <th>Type_of_vehicle</th>\n",
       "      <th>multiple_deliveries</th>\n",
       "      <th>Festival</th>\n",
       "      <th>City</th>\n",
       "      <th>Time_taken(min)</th>\n",
       "    </tr>\n",
       "  </thead>\n",
       "  <tbody>\n",
       "  </tbody>\n",
       "</table>\n",
       "</div>"
      ],
      "text/plain": [
       "Empty DataFrame\n",
       "Columns: [ID, Delivery_person_ID, Delivery_person_Age, Delivery_person_Ratings, Restaurant_latitude, Restaurant_longitude, Delivery_location_latitude, Delivery_location_longitude, Order_Date, Time_Orderd, Time_Order_picked, Weatherconditions, Road_traffic_density, Vehicle_condition, Type_of_order, Type_of_vehicle, multiple_deliveries, Festival, City, Time_taken(min)]\n",
       "Index: []"
      ]
     },
     "execution_count": 152,
     "metadata": {},
     "output_type": "execute_result"
    }
   ],
   "source": [
    "#Testando se os espaçamentos foram retirados - Delivery_person_Age\n",
    "data.loc[data[\"Delivery_person_Age\"] == \"NaN \", :]"
   ]
  },
  {
   "cell_type": "code",
   "execution_count": 153,
   "id": "4743b64b",
   "metadata": {
    "ExecuteTime": {
     "end_time": "2022-12-12T22:16:50.968266Z",
     "start_time": "2022-12-12T22:16:50.945749Z"
    }
   },
   "outputs": [
    {
     "data": {
      "text/html": [
       "<div>\n",
       "<style scoped>\n",
       "    .dataframe tbody tr th:only-of-type {\n",
       "        vertical-align: middle;\n",
       "    }\n",
       "\n",
       "    .dataframe tbody tr th {\n",
       "        vertical-align: top;\n",
       "    }\n",
       "\n",
       "    .dataframe thead th {\n",
       "        text-align: right;\n",
       "    }\n",
       "</style>\n",
       "<table border=\"1\" class=\"dataframe\">\n",
       "  <thead>\n",
       "    <tr style=\"text-align: right;\">\n",
       "      <th></th>\n",
       "      <th>ID</th>\n",
       "      <th>Delivery_person_ID</th>\n",
       "      <th>Delivery_person_Age</th>\n",
       "      <th>Delivery_person_Ratings</th>\n",
       "      <th>Restaurant_latitude</th>\n",
       "      <th>Restaurant_longitude</th>\n",
       "      <th>Delivery_location_latitude</th>\n",
       "      <th>Delivery_location_longitude</th>\n",
       "      <th>Order_Date</th>\n",
       "      <th>Time_Orderd</th>\n",
       "      <th>Time_Order_picked</th>\n",
       "      <th>Weatherconditions</th>\n",
       "      <th>Road_traffic_density</th>\n",
       "      <th>Vehicle_condition</th>\n",
       "      <th>Type_of_order</th>\n",
       "      <th>Type_of_vehicle</th>\n",
       "      <th>multiple_deliveries</th>\n",
       "      <th>Festival</th>\n",
       "      <th>City</th>\n",
       "      <th>Time_taken(min)</th>\n",
       "    </tr>\n",
       "  </thead>\n",
       "  <tbody>\n",
       "  </tbody>\n",
       "</table>\n",
       "</div>"
      ],
      "text/plain": [
       "Empty DataFrame\n",
       "Columns: [ID, Delivery_person_ID, Delivery_person_Age, Delivery_person_Ratings, Restaurant_latitude, Restaurant_longitude, Delivery_location_latitude, Delivery_location_longitude, Order_Date, Time_Orderd, Time_Order_picked, Weatherconditions, Road_traffic_density, Vehicle_condition, Type_of_order, Type_of_vehicle, multiple_deliveries, Festival, City, Time_taken(min)]\n",
       "Index: []"
      ]
     },
     "execution_count": 153,
     "metadata": {},
     "output_type": "execute_result"
    }
   ],
   "source": [
    "#Testando se os espaçamentos foram retirados - Delivery_person_Ratings\n",
    "data.loc[data[\"Delivery_person_Ratings\"] == \"NaN \", :]"
   ]
  },
  {
   "cell_type": "code",
   "execution_count": 154,
   "id": "388fea3e",
   "metadata": {
    "ExecuteTime": {
     "end_time": "2022-12-12T22:16:51.470055Z",
     "start_time": "2022-12-12T22:16:51.450056Z"
    }
   },
   "outputs": [
    {
     "data": {
      "text/html": [
       "<div>\n",
       "<style scoped>\n",
       "    .dataframe tbody tr th:only-of-type {\n",
       "        vertical-align: middle;\n",
       "    }\n",
       "\n",
       "    .dataframe tbody tr th {\n",
       "        vertical-align: top;\n",
       "    }\n",
       "\n",
       "    .dataframe thead th {\n",
       "        text-align: right;\n",
       "    }\n",
       "</style>\n",
       "<table border=\"1\" class=\"dataframe\">\n",
       "  <thead>\n",
       "    <tr style=\"text-align: right;\">\n",
       "      <th></th>\n",
       "      <th>ID</th>\n",
       "      <th>Delivery_person_ID</th>\n",
       "      <th>Delivery_person_Age</th>\n",
       "      <th>Delivery_person_Ratings</th>\n",
       "      <th>Restaurant_latitude</th>\n",
       "      <th>Restaurant_longitude</th>\n",
       "      <th>Delivery_location_latitude</th>\n",
       "      <th>Delivery_location_longitude</th>\n",
       "      <th>Order_Date</th>\n",
       "      <th>Time_Orderd</th>\n",
       "      <th>Time_Order_picked</th>\n",
       "      <th>Weatherconditions</th>\n",
       "      <th>Road_traffic_density</th>\n",
       "      <th>Vehicle_condition</th>\n",
       "      <th>Type_of_order</th>\n",
       "      <th>Type_of_vehicle</th>\n",
       "      <th>multiple_deliveries</th>\n",
       "      <th>Festival</th>\n",
       "      <th>City</th>\n",
       "      <th>Time_taken(min)</th>\n",
       "    </tr>\n",
       "  </thead>\n",
       "  <tbody>\n",
       "  </tbody>\n",
       "</table>\n",
       "</div>"
      ],
      "text/plain": [
       "Empty DataFrame\n",
       "Columns: [ID, Delivery_person_ID, Delivery_person_Age, Delivery_person_Ratings, Restaurant_latitude, Restaurant_longitude, Delivery_location_latitude, Delivery_location_longitude, Order_Date, Time_Orderd, Time_Order_picked, Weatherconditions, Road_traffic_density, Vehicle_condition, Type_of_order, Type_of_vehicle, multiple_deliveries, Festival, City, Time_taken(min)]\n",
       "Index: []"
      ]
     },
     "execution_count": 154,
     "metadata": {},
     "output_type": "execute_result"
    }
   ],
   "source": [
    "#Testando se os espaçamentos foram retirados - Time_Orderd\n",
    "data.loc[data[\"Time_Orderd\"] == \"NaN \", :]"
   ]
  },
  {
   "cell_type": "code",
   "execution_count": 155,
   "id": "8804e53c",
   "metadata": {
    "ExecuteTime": {
     "end_time": "2022-12-12T22:16:51.779525Z",
     "start_time": "2022-12-12T22:16:51.765525Z"
    }
   },
   "outputs": [
    {
     "data": {
      "text/html": [
       "<div>\n",
       "<style scoped>\n",
       "    .dataframe tbody tr th:only-of-type {\n",
       "        vertical-align: middle;\n",
       "    }\n",
       "\n",
       "    .dataframe tbody tr th {\n",
       "        vertical-align: top;\n",
       "    }\n",
       "\n",
       "    .dataframe thead th {\n",
       "        text-align: right;\n",
       "    }\n",
       "</style>\n",
       "<table border=\"1\" class=\"dataframe\">\n",
       "  <thead>\n",
       "    <tr style=\"text-align: right;\">\n",
       "      <th></th>\n",
       "      <th>ID</th>\n",
       "      <th>Delivery_person_ID</th>\n",
       "      <th>Delivery_person_Age</th>\n",
       "      <th>Delivery_person_Ratings</th>\n",
       "      <th>Restaurant_latitude</th>\n",
       "      <th>Restaurant_longitude</th>\n",
       "      <th>Delivery_location_latitude</th>\n",
       "      <th>Delivery_location_longitude</th>\n",
       "      <th>Order_Date</th>\n",
       "      <th>Time_Orderd</th>\n",
       "      <th>Time_Order_picked</th>\n",
       "      <th>Weatherconditions</th>\n",
       "      <th>Road_traffic_density</th>\n",
       "      <th>Vehicle_condition</th>\n",
       "      <th>Type_of_order</th>\n",
       "      <th>Type_of_vehicle</th>\n",
       "      <th>multiple_deliveries</th>\n",
       "      <th>Festival</th>\n",
       "      <th>City</th>\n",
       "      <th>Time_taken(min)</th>\n",
       "    </tr>\n",
       "  </thead>\n",
       "  <tbody>\n",
       "  </tbody>\n",
       "</table>\n",
       "</div>"
      ],
      "text/plain": [
       "Empty DataFrame\n",
       "Columns: [ID, Delivery_person_ID, Delivery_person_Age, Delivery_person_Ratings, Restaurant_latitude, Restaurant_longitude, Delivery_location_latitude, Delivery_location_longitude, Order_Date, Time_Orderd, Time_Order_picked, Weatherconditions, Road_traffic_density, Vehicle_condition, Type_of_order, Type_of_vehicle, multiple_deliveries, Festival, City, Time_taken(min)]\n",
       "Index: []"
      ]
     },
     "execution_count": 155,
     "metadata": {},
     "output_type": "execute_result"
    }
   ],
   "source": [
    "#Testando se os espaçamentos foram retirados - Road_traffic_density\n",
    "data.loc[data[\"Road_traffic_density\"] == \"NaN \", :]"
   ]
  },
  {
   "cell_type": "code",
   "execution_count": 156,
   "id": "e6163726",
   "metadata": {
    "ExecuteTime": {
     "end_time": "2022-12-12T22:16:51.951337Z",
     "start_time": "2022-12-12T22:16:51.926818Z"
    }
   },
   "outputs": [
    {
     "data": {
      "text/html": [
       "<div>\n",
       "<style scoped>\n",
       "    .dataframe tbody tr th:only-of-type {\n",
       "        vertical-align: middle;\n",
       "    }\n",
       "\n",
       "    .dataframe tbody tr th {\n",
       "        vertical-align: top;\n",
       "    }\n",
       "\n",
       "    .dataframe thead th {\n",
       "        text-align: right;\n",
       "    }\n",
       "</style>\n",
       "<table border=\"1\" class=\"dataframe\">\n",
       "  <thead>\n",
       "    <tr style=\"text-align: right;\">\n",
       "      <th></th>\n",
       "      <th>ID</th>\n",
       "      <th>Delivery_person_ID</th>\n",
       "      <th>Delivery_person_Age</th>\n",
       "      <th>Delivery_person_Ratings</th>\n",
       "      <th>Restaurant_latitude</th>\n",
       "      <th>Restaurant_longitude</th>\n",
       "      <th>Delivery_location_latitude</th>\n",
       "      <th>Delivery_location_longitude</th>\n",
       "      <th>Order_Date</th>\n",
       "      <th>Time_Orderd</th>\n",
       "      <th>Time_Order_picked</th>\n",
       "      <th>Weatherconditions</th>\n",
       "      <th>Road_traffic_density</th>\n",
       "      <th>Vehicle_condition</th>\n",
       "      <th>Type_of_order</th>\n",
       "      <th>Type_of_vehicle</th>\n",
       "      <th>multiple_deliveries</th>\n",
       "      <th>Festival</th>\n",
       "      <th>City</th>\n",
       "      <th>Time_taken(min)</th>\n",
       "    </tr>\n",
       "  </thead>\n",
       "  <tbody>\n",
       "  </tbody>\n",
       "</table>\n",
       "</div>"
      ],
      "text/plain": [
       "Empty DataFrame\n",
       "Columns: [ID, Delivery_person_ID, Delivery_person_Age, Delivery_person_Ratings, Restaurant_latitude, Restaurant_longitude, Delivery_location_latitude, Delivery_location_longitude, Order_Date, Time_Orderd, Time_Order_picked, Weatherconditions, Road_traffic_density, Vehicle_condition, Type_of_order, Type_of_vehicle, multiple_deliveries, Festival, City, Time_taken(min)]\n",
       "Index: []"
      ]
     },
     "execution_count": 156,
     "metadata": {},
     "output_type": "execute_result"
    }
   ],
   "source": [
    "#Testando se os espaçamentos foram retirados - City\n",
    "data.loc[data[\"City\"] == \"NaN \", :]"
   ]
  },
  {
   "cell_type": "code",
   "execution_count": 157,
   "id": "5866f41a",
   "metadata": {
    "ExecuteTime": {
     "end_time": "2022-12-12T22:16:52.368936Z",
     "start_time": "2022-12-12T22:16:52.362932Z"
    }
   },
   "outputs": [],
   "source": [
    "#Substituição do valor 'conditions NaN' por apenas 'NaN' - variável Weatherconditions\n",
    "#Vamos usar a linha de número 74 para o teste de replace\n",
    "data.loc[74, \"Weatherconditions\"] = data.loc[74, \"Weatherconditions\"].replace('conditions NaN', 'NaN')"
   ]
  },
  {
   "cell_type": "code",
   "execution_count": 158,
   "id": "947e2a83",
   "metadata": {
    "ExecuteTime": {
     "end_time": "2022-12-12T22:16:53.036653Z",
     "start_time": "2022-12-12T22:16:53.025632Z"
    }
   },
   "outputs": [
    {
     "data": {
      "text/plain": [
       "'NaN'"
      ]
     },
     "execution_count": 158,
     "metadata": {},
     "output_type": "execute_result"
    }
   ],
   "source": [
    "#Testando se o valor foi substituído\n",
    "data.loc[74, \"Weatherconditions\"]"
   ]
  },
  {
   "cell_type": "code",
   "execution_count": 159,
   "id": "32d899b9",
   "metadata": {
    "ExecuteTime": {
     "end_time": "2022-12-12T22:16:54.054071Z",
     "start_time": "2022-12-12T22:16:53.708462Z"
    }
   },
   "outputs": [],
   "source": [
    "#Agora vamos aplicar o replace a todas as linhas com essa condição\n",
    "for i in range( len(data) ):\n",
    "    if data.loc[i, \"Weatherconditions\"] == 'conditions NaN':\n",
    "        data.loc[i, \"Weatherconditions\"] = data.loc[i, \"Weatherconditions\"].replace('conditions NaN', 'NaN')"
   ]
  },
  {
   "cell_type": "code",
   "execution_count": 160,
   "id": "5f83f425",
   "metadata": {
    "ExecuteTime": {
     "end_time": "2022-12-12T22:16:54.303322Z",
     "start_time": "2022-12-12T22:16:54.285322Z"
    }
   },
   "outputs": [
    {
     "data": {
      "text/html": [
       "<div>\n",
       "<style scoped>\n",
       "    .dataframe tbody tr th:only-of-type {\n",
       "        vertical-align: middle;\n",
       "    }\n",
       "\n",
       "    .dataframe tbody tr th {\n",
       "        vertical-align: top;\n",
       "    }\n",
       "\n",
       "    .dataframe thead th {\n",
       "        text-align: right;\n",
       "    }\n",
       "</style>\n",
       "<table border=\"1\" class=\"dataframe\">\n",
       "  <thead>\n",
       "    <tr style=\"text-align: right;\">\n",
       "      <th></th>\n",
       "      <th>ID</th>\n",
       "      <th>Delivery_person_ID</th>\n",
       "      <th>Delivery_person_Age</th>\n",
       "      <th>Delivery_person_Ratings</th>\n",
       "      <th>Restaurant_latitude</th>\n",
       "      <th>Restaurant_longitude</th>\n",
       "      <th>Delivery_location_latitude</th>\n",
       "      <th>Delivery_location_longitude</th>\n",
       "      <th>Order_Date</th>\n",
       "      <th>Time_Orderd</th>\n",
       "      <th>Time_Order_picked</th>\n",
       "      <th>Weatherconditions</th>\n",
       "      <th>Road_traffic_density</th>\n",
       "      <th>Vehicle_condition</th>\n",
       "      <th>Type_of_order</th>\n",
       "      <th>Type_of_vehicle</th>\n",
       "      <th>multiple_deliveries</th>\n",
       "      <th>Festival</th>\n",
       "      <th>City</th>\n",
       "      <th>Time_taken(min)</th>\n",
       "    </tr>\n",
       "  </thead>\n",
       "  <tbody>\n",
       "  </tbody>\n",
       "</table>\n",
       "</div>"
      ],
      "text/plain": [
       "Empty DataFrame\n",
       "Columns: [ID, Delivery_person_ID, Delivery_person_Age, Delivery_person_Ratings, Restaurant_latitude, Restaurant_longitude, Delivery_location_latitude, Delivery_location_longitude, Order_Date, Time_Orderd, Time_Order_picked, Weatherconditions, Road_traffic_density, Vehicle_condition, Type_of_order, Type_of_vehicle, multiple_deliveries, Festival, City, Time_taken(min)]\n",
       "Index: []"
      ]
     },
     "execution_count": 160,
     "metadata": {},
     "output_type": "execute_result"
    }
   ],
   "source": [
    "#Vamos testar agora abaixo se os valores foram trocados:\n",
    "data.loc[data[\"Weatherconditions\"] == 'conditions NaN', :]"
   ]
  },
  {
   "cell_type": "code",
   "execution_count": 161,
   "id": "c9d08346",
   "metadata": {
    "ExecuteTime": {
     "end_time": "2022-12-12T22:16:54.860362Z",
     "start_time": "2022-12-12T22:16:54.842928Z"
    }
   },
   "outputs": [
    {
     "data": {
      "text/plain": [
       "42       NaN\n",
       "74       NaN\n",
       "120      NaN\n",
       "140      NaN\n",
       "179      NaN\n",
       "        ... \n",
       "45508    NaN\n",
       "45518    NaN\n",
       "45519    NaN\n",
       "45526    NaN\n",
       "45566    NaN\n",
       "Name: Delivery_person_Age, Length: 1854, dtype: object"
      ]
     },
     "execution_count": 161,
     "metadata": {},
     "output_type": "execute_result"
    }
   ],
   "source": [
    "#Agora vamos avaliar novamente se tudo deu certo e se temos enfim os valores nulos correto, usando, por exemplo, a  variável \n",
    "#Delivery_person_Age\n",
    "data.loc[data[\"Delivery_person_Age\"] == \"NaN\", \"Delivery_person_Age\"]"
   ]
  },
  {
   "cell_type": "code",
   "execution_count": 162,
   "id": "4a5f4d30",
   "metadata": {
    "ExecuteTime": {
     "end_time": "2022-12-12T22:16:55.495251Z",
     "start_time": "2022-12-12T22:16:55.471781Z"
    }
   },
   "outputs": [
    {
     "data": {
      "text/html": [
       "<div>\n",
       "<style scoped>\n",
       "    .dataframe tbody tr th:only-of-type {\n",
       "        vertical-align: middle;\n",
       "    }\n",
       "\n",
       "    .dataframe tbody tr th {\n",
       "        vertical-align: top;\n",
       "    }\n",
       "\n",
       "    .dataframe thead th {\n",
       "        text-align: right;\n",
       "    }\n",
       "</style>\n",
       "<table border=\"1\" class=\"dataframe\">\n",
       "  <thead>\n",
       "    <tr style=\"text-align: right;\">\n",
       "      <th></th>\n",
       "      <th>ID</th>\n",
       "      <th>Delivery_person_ID</th>\n",
       "      <th>Delivery_person_Age</th>\n",
       "      <th>Delivery_person_Ratings</th>\n",
       "      <th>Restaurant_latitude</th>\n",
       "      <th>Restaurant_longitude</th>\n",
       "      <th>Delivery_location_latitude</th>\n",
       "      <th>Delivery_location_longitude</th>\n",
       "      <th>Order_Date</th>\n",
       "      <th>Time_Orderd</th>\n",
       "      <th>Time_Order_picked</th>\n",
       "      <th>Weatherconditions</th>\n",
       "      <th>Road_traffic_density</th>\n",
       "      <th>Vehicle_condition</th>\n",
       "      <th>Type_of_order</th>\n",
       "      <th>Type_of_vehicle</th>\n",
       "      <th>multiple_deliveries</th>\n",
       "      <th>Festival</th>\n",
       "      <th>City</th>\n",
       "      <th>Time_taken(min)</th>\n",
       "    </tr>\n",
       "  </thead>\n",
       "  <tbody>\n",
       "    <tr>\n",
       "      <th>0</th>\n",
       "      <td>0x4607</td>\n",
       "      <td>INDORES13DEL02</td>\n",
       "      <td>37</td>\n",
       "      <td>4.9</td>\n",
       "      <td>22.75</td>\n",
       "      <td>75.89</td>\n",
       "      <td>22.77</td>\n",
       "      <td>75.91</td>\n",
       "      <td>19-03-2022</td>\n",
       "      <td>11:30:00</td>\n",
       "      <td>11:45:00</td>\n",
       "      <td>conditions Sunny</td>\n",
       "      <td>High</td>\n",
       "      <td>2</td>\n",
       "      <td>Snack</td>\n",
       "      <td>motorcycle</td>\n",
       "      <td>0</td>\n",
       "      <td>No</td>\n",
       "      <td>Urban</td>\n",
       "      <td>(min) 24</td>\n",
       "    </tr>\n",
       "  </tbody>\n",
       "</table>\n",
       "</div>"
      ],
      "text/plain": [
       "       ID Delivery_person_ID Delivery_person_Age Delivery_person_Ratings  \\\n",
       "0  0x4607    INDORES13DEL02                   37                     4.9   \n",
       "\n",
       "   Restaurant_latitude  Restaurant_longitude  Delivery_location_latitude  \\\n",
       "0                22.75                 75.89                       22.77   \n",
       "\n",
       "   Delivery_location_longitude  Order_Date Time_Orderd Time_Order_picked  \\\n",
       "0                        75.91  19-03-2022    11:30:00          11:45:00   \n",
       "\n",
       "  Weatherconditions Road_traffic_density  Vehicle_condition Type_of_order  \\\n",
       "0  conditions Sunny                 High                  2        Snack    \n",
       "\n",
       "  Type_of_vehicle multiple_deliveries Festival   City Time_taken(min)  \n",
       "0      motorcycle                   0       No  Urban        (min) 24  "
      ]
     },
     "execution_count": 162,
     "metadata": {},
     "output_type": "execute_result"
    }
   ],
   "source": [
    "#Nesse momento vamos iniciar o processo de conversão das variáveis\n",
    "data.head(1)"
   ]
  },
  {
   "cell_type": "code",
   "execution_count": 163,
   "id": "4ef2f62f",
   "metadata": {
    "ExecuteTime": {
     "end_time": "2022-12-12T22:16:56.402650Z",
     "start_time": "2022-12-12T22:16:56.382959Z"
    },
    "scrolled": true
   },
   "outputs": [
    {
     "data": {
      "text/plain": [
       "ID                              object\n",
       "Delivery_person_ID              object\n",
       "Delivery_person_Age             object\n",
       "Delivery_person_Ratings         object\n",
       "Restaurant_latitude            float64\n",
       "Restaurant_longitude           float64\n",
       "Delivery_location_latitude     float64\n",
       "Delivery_location_longitude    float64\n",
       "Order_Date                      object\n",
       "Time_Orderd                     object\n",
       "Time_Order_picked               object\n",
       "Weatherconditions               object\n",
       "Road_traffic_density            object\n",
       "Vehicle_condition                int64\n",
       "Type_of_order                   object\n",
       "Type_of_vehicle                 object\n",
       "multiple_deliveries             object\n",
       "Festival                        object\n",
       "City                            object\n",
       "Time_taken(min)                 object\n",
       "dtype: object"
      ]
     },
     "execution_count": 163,
     "metadata": {},
     "output_type": "execute_result"
    }
   ],
   "source": [
    "data.dtypes"
   ]
  },
  {
   "cell_type": "code",
   "execution_count": 164,
   "id": "9db6e2cc",
   "metadata": {
    "ExecuteTime": {
     "end_time": "2022-12-12T22:16:56.910152Z",
     "start_time": "2022-12-12T22:16:56.833129Z"
    },
    "scrolled": true
   },
   "outputs": [],
   "source": [
    "#Variável - critério: excluir os valores nulos da base\n",
    "#Após a média, preencher esses valores nulos com essa média\n",
    "#Excluindo NaN das bases\n",
    "#Selecionando apenas linhas não nulas\n",
    "df = data.copy()\n",
    "df = df.loc[df[\"Delivery_person_Age\"] != \"NaN\", :]\n",
    "#Convertendo o tipo\n",
    "df[\"Delivery_person_Age\"] = np.array(df[\"Delivery_person_Age\"], dtype= np.int64)\n",
    "#Convertendo o tipo\n",
    "df[\"Delivery_person_Ratings\"] = df[\"Delivery_person_Ratings\"].astype(float)\n",
    "#Convertendo o tipo, criando a feature Week_of_year e a convertendo para int\n",
    "df[\"Order_Date\"] = pd.to_datetime(df[\"Order_Date\"], format=\"%d-%m-%Y\")\n",
    "#Selecionando apenas linhas não nulas\n",
    "df = df.loc[df[\"multiple_deliveries\"] != \"NaN\", :]\n",
    "#Convertendo o tipo\n",
    "df[\"multiple_deliveries\"] = np.array(df[\"multiple_deliveries\"], dtype= np.int64)"
   ]
  },
  {
   "cell_type": "code",
   "execution_count": 165,
   "id": "da07c24c",
   "metadata": {
    "ExecuteTime": {
     "end_time": "2022-12-12T22:16:57.241910Z",
     "start_time": "2022-12-12T22:16:57.229408Z"
    },
    "scrolled": true
   },
   "outputs": [
    {
     "data": {
      "text/plain": [
       "ID                                     object\n",
       "Delivery_person_ID                     object\n",
       "Delivery_person_Age                     int64\n",
       "Delivery_person_Ratings               float64\n",
       "Restaurant_latitude                   float64\n",
       "Restaurant_longitude                  float64\n",
       "Delivery_location_latitude            float64\n",
       "Delivery_location_longitude           float64\n",
       "Order_Date                     datetime64[ns]\n",
       "Time_Orderd                            object\n",
       "Time_Order_picked                      object\n",
       "Weatherconditions                      object\n",
       "Road_traffic_density                   object\n",
       "Vehicle_condition                       int64\n",
       "Type_of_order                          object\n",
       "Type_of_vehicle                        object\n",
       "multiple_deliveries                     int64\n",
       "Festival                               object\n",
       "City                                   object\n",
       "Time_taken(min)                        object\n",
       "dtype: object"
      ]
     },
     "execution_count": 165,
     "metadata": {},
     "output_type": "execute_result"
    }
   ],
   "source": [
    "df.dtypes"
   ]
  },
  {
   "cell_type": "code",
   "execution_count": 166,
   "id": "02cb871b",
   "metadata": {
    "ExecuteTime": {
     "end_time": "2022-12-12T22:16:57.601297Z",
     "start_time": "2022-12-12T22:16:57.584078Z"
    },
    "scrolled": true
   },
   "outputs": [
    {
     "name": "stdout",
     "output_type": "stream",
     "text": [
      "30.0\n",
      "1.0\n",
      "4.63\n",
      "\n",
      "conditions Fog          17.03\n",
      "conditions Stormy       16.88\n",
      "conditions Cloudy       16.67\n",
      "conditions Sandstorms   16.55\n",
      "conditions Windy        16.54\n",
      "conditions Sunny        16.13\n",
      "NaN                      0.21\n",
      "Name: Weatherconditions, dtype: float64%\n"
     ]
    }
   ],
   "source": [
    "#Agora vamos adotar o critério de média das features inteiras para preencher as linhas nulas\n",
    "print(df[\"Delivery_person_Age\"].mean().round(0))\n",
    "print(df[\"multiple_deliveries\"].mean().round(0))\n",
    "print(df[\"Delivery_person_Ratings\"].mean().round(2))\n",
    "print(\"\")\n",
    "#Vamos adotar o critério do maior resultado, que é \"Condition Fog\"\n",
    "print(\"{}%\".format((df[\"Weatherconditions\"].value_counts()/42805*100)))"
   ]
  },
  {
   "cell_type": "code",
   "execution_count": 167,
   "id": "fec5fc71",
   "metadata": {
    "ExecuteTime": {
     "end_time": "2022-12-12T22:17:00.168598Z",
     "start_time": "2022-12-12T22:16:57.994624Z"
    }
   },
   "outputs": [],
   "source": [
    "#vamos substituir os valores com os resultados acima levantados\n",
    "for i in range( len(data) ):\n",
    "    if data.loc[i, \"Delivery_person_Age\"] == 'NaN':\n",
    "        data.loc[i, \"Delivery_person_Age\"] = data.loc[i, \"Delivery_person_Age\"].replace(\"NaN\", \"30\")\n",
    "\n",
    "for i in range( len(data) ):\n",
    "    if data.loc[i, \"Delivery_person_Ratings\"] == 'NaN':\n",
    "        data.loc[i, \"Delivery_person_Ratings\"] = data.loc[i, \"Delivery_person_Ratings\"].replace(\"NaN\", \"4.63\")\n",
    "\n",
    "for i in range( len(data) ):\n",
    "    if data.loc[i, \"multiple_deliveries\"] == 'NaN':\n",
    "        data.loc[i, \"multiple_deliveries\"] = data.loc[i, \"multiple_deliveries\"].replace(\"NaN\", \"1\")\n",
    "        \n",
    "for i in range( len(data) ):\n",
    "    if data.loc[i, \"Weatherconditions\"] == 'NaN':\n",
    "        data.loc[i, \"Weatherconditions\"] = data.loc[i, \"Weatherconditions\"].replace(\"NaN\", \"conditions Fog\")\n",
    "\n",
    "for i in range( len(data) ):\n",
    "    if data.loc[i, \"City\"] == \"NaN\":\n",
    "        data.loc[i, \"City\"] = data.loc[i, \"City\"].replace(\"NaN\", \"Semi-Urban\")\n",
    "\n",
    "for i in range( len(data) ):\n",
    "    if data.loc[i, \"Road_traffic_density\"] == \"NaN\":\n",
    "        data.loc[i, \"Road_traffic_density\"] = data.loc[i, \"Road_traffic_density\"].replace(\"NaN\", \"Low\")"
   ]
  },
  {
   "cell_type": "code",
   "execution_count": 168,
   "id": "39e205e5",
   "metadata": {
    "ExecuteTime": {
     "end_time": "2022-12-12T22:17:00.970884Z",
     "start_time": "2022-12-12T22:17:00.951522Z"
    }
   },
   "outputs": [
    {
     "data": {
      "text/html": [
       "<div>\n",
       "<style scoped>\n",
       "    .dataframe tbody tr th:only-of-type {\n",
       "        vertical-align: middle;\n",
       "    }\n",
       "\n",
       "    .dataframe tbody tr th {\n",
       "        vertical-align: top;\n",
       "    }\n",
       "\n",
       "    .dataframe thead th {\n",
       "        text-align: right;\n",
       "    }\n",
       "</style>\n",
       "<table border=\"1\" class=\"dataframe\">\n",
       "  <thead>\n",
       "    <tr style=\"text-align: right;\">\n",
       "      <th></th>\n",
       "      <th>ID</th>\n",
       "      <th>Delivery_person_ID</th>\n",
       "      <th>Delivery_person_Age</th>\n",
       "      <th>Delivery_person_Ratings</th>\n",
       "      <th>Restaurant_latitude</th>\n",
       "      <th>Restaurant_longitude</th>\n",
       "      <th>Delivery_location_latitude</th>\n",
       "      <th>Delivery_location_longitude</th>\n",
       "      <th>Order_Date</th>\n",
       "      <th>Time_Orderd</th>\n",
       "      <th>Time_Order_picked</th>\n",
       "      <th>Weatherconditions</th>\n",
       "      <th>Road_traffic_density</th>\n",
       "      <th>Vehicle_condition</th>\n",
       "      <th>Type_of_order</th>\n",
       "      <th>Type_of_vehicle</th>\n",
       "      <th>multiple_deliveries</th>\n",
       "      <th>Festival</th>\n",
       "      <th>City</th>\n",
       "      <th>Time_taken(min)</th>\n",
       "    </tr>\n",
       "  </thead>\n",
       "  <tbody>\n",
       "  </tbody>\n",
       "</table>\n",
       "</div>"
      ],
      "text/plain": [
       "Empty DataFrame\n",
       "Columns: [ID, Delivery_person_ID, Delivery_person_Age, Delivery_person_Ratings, Restaurant_latitude, Restaurant_longitude, Delivery_location_latitude, Delivery_location_longitude, Order_Date, Time_Orderd, Time_Order_picked, Weatherconditions, Road_traffic_density, Vehicle_condition, Type_of_order, Type_of_vehicle, multiple_deliveries, Festival, City, Time_taken(min)]\n",
       "Index: []"
      ]
     },
     "execution_count": 168,
     "metadata": {},
     "output_type": "execute_result"
    }
   ],
   "source": [
    "#Testando se os valores foram substituidos\n",
    "\n",
    "data.loc[data[\"Delivery_person_Age\"] == \"NaN\", :]"
   ]
  },
  {
   "cell_type": "code",
   "execution_count": 169,
   "id": "97a6a47a",
   "metadata": {
    "ExecuteTime": {
     "end_time": "2022-12-12T22:17:01.484963Z",
     "start_time": "2022-12-12T22:17:01.460988Z"
    }
   },
   "outputs": [
    {
     "data": {
      "text/html": [
       "<div>\n",
       "<style scoped>\n",
       "    .dataframe tbody tr th:only-of-type {\n",
       "        vertical-align: middle;\n",
       "    }\n",
       "\n",
       "    .dataframe tbody tr th {\n",
       "        vertical-align: top;\n",
       "    }\n",
       "\n",
       "    .dataframe thead th {\n",
       "        text-align: right;\n",
       "    }\n",
       "</style>\n",
       "<table border=\"1\" class=\"dataframe\">\n",
       "  <thead>\n",
       "    <tr style=\"text-align: right;\">\n",
       "      <th></th>\n",
       "      <th>ID</th>\n",
       "      <th>Delivery_person_ID</th>\n",
       "      <th>Delivery_person_Age</th>\n",
       "      <th>Delivery_person_Ratings</th>\n",
       "      <th>Restaurant_latitude</th>\n",
       "      <th>Restaurant_longitude</th>\n",
       "      <th>Delivery_location_latitude</th>\n",
       "      <th>Delivery_location_longitude</th>\n",
       "      <th>Order_Date</th>\n",
       "      <th>Time_Orderd</th>\n",
       "      <th>Time_Order_picked</th>\n",
       "      <th>Weatherconditions</th>\n",
       "      <th>Road_traffic_density</th>\n",
       "      <th>Vehicle_condition</th>\n",
       "      <th>Type_of_order</th>\n",
       "      <th>Type_of_vehicle</th>\n",
       "      <th>multiple_deliveries</th>\n",
       "      <th>Festival</th>\n",
       "      <th>City</th>\n",
       "      <th>Time_taken(min)</th>\n",
       "    </tr>\n",
       "  </thead>\n",
       "  <tbody>\n",
       "  </tbody>\n",
       "</table>\n",
       "</div>"
      ],
      "text/plain": [
       "Empty DataFrame\n",
       "Columns: [ID, Delivery_person_ID, Delivery_person_Age, Delivery_person_Ratings, Restaurant_latitude, Restaurant_longitude, Delivery_location_latitude, Delivery_location_longitude, Order_Date, Time_Orderd, Time_Order_picked, Weatherconditions, Road_traffic_density, Vehicle_condition, Type_of_order, Type_of_vehicle, multiple_deliveries, Festival, City, Time_taken(min)]\n",
       "Index: []"
      ]
     },
     "execution_count": 169,
     "metadata": {},
     "output_type": "execute_result"
    }
   ],
   "source": [
    "data.loc[data[\"multiple_deliveries\"] == \"NaN\", :]"
   ]
  },
  {
   "cell_type": "code",
   "execution_count": 170,
   "id": "11a7ce2e",
   "metadata": {
    "ExecuteTime": {
     "end_time": "2022-12-12T22:17:01.965587Z",
     "start_time": "2022-12-12T22:17:01.942376Z"
    },
    "scrolled": true
   },
   "outputs": [
    {
     "data": {
      "text/html": [
       "<div>\n",
       "<style scoped>\n",
       "    .dataframe tbody tr th:only-of-type {\n",
       "        vertical-align: middle;\n",
       "    }\n",
       "\n",
       "    .dataframe tbody tr th {\n",
       "        vertical-align: top;\n",
       "    }\n",
       "\n",
       "    .dataframe thead th {\n",
       "        text-align: right;\n",
       "    }\n",
       "</style>\n",
       "<table border=\"1\" class=\"dataframe\">\n",
       "  <thead>\n",
       "    <tr style=\"text-align: right;\">\n",
       "      <th></th>\n",
       "      <th>ID</th>\n",
       "      <th>Delivery_person_ID</th>\n",
       "      <th>Delivery_person_Age</th>\n",
       "      <th>Delivery_person_Ratings</th>\n",
       "      <th>Restaurant_latitude</th>\n",
       "      <th>Restaurant_longitude</th>\n",
       "      <th>Delivery_location_latitude</th>\n",
       "      <th>Delivery_location_longitude</th>\n",
       "      <th>Order_Date</th>\n",
       "      <th>Time_Orderd</th>\n",
       "      <th>Time_Order_picked</th>\n",
       "      <th>Weatherconditions</th>\n",
       "      <th>Road_traffic_density</th>\n",
       "      <th>Vehicle_condition</th>\n",
       "      <th>Type_of_order</th>\n",
       "      <th>Type_of_vehicle</th>\n",
       "      <th>multiple_deliveries</th>\n",
       "      <th>Festival</th>\n",
       "      <th>City</th>\n",
       "      <th>Time_taken(min)</th>\n",
       "    </tr>\n",
       "  </thead>\n",
       "  <tbody>\n",
       "  </tbody>\n",
       "</table>\n",
       "</div>"
      ],
      "text/plain": [
       "Empty DataFrame\n",
       "Columns: [ID, Delivery_person_ID, Delivery_person_Age, Delivery_person_Ratings, Restaurant_latitude, Restaurant_longitude, Delivery_location_latitude, Delivery_location_longitude, Order_Date, Time_Orderd, Time_Order_picked, Weatherconditions, Road_traffic_density, Vehicle_condition, Type_of_order, Type_of_vehicle, multiple_deliveries, Festival, City, Time_taken(min)]\n",
       "Index: []"
      ]
     },
     "execution_count": 170,
     "metadata": {},
     "output_type": "execute_result"
    }
   ],
   "source": [
    "data.loc[data[\"Weatherconditions\"] == \"NaN\", :]"
   ]
  },
  {
   "cell_type": "code",
   "execution_count": 171,
   "id": "99bcb266",
   "metadata": {
    "ExecuteTime": {
     "end_time": "2022-12-12T22:17:02.530195Z",
     "start_time": "2022-12-12T22:17:02.520162Z"
    },
    "scrolled": true
   },
   "outputs": [
    {
     "data": {
      "text/plain": [
       "ID                              object\n",
       "Delivery_person_ID              object\n",
       "Delivery_person_Age             object\n",
       "Delivery_person_Ratings         object\n",
       "Restaurant_latitude            float64\n",
       "Restaurant_longitude           float64\n",
       "Delivery_location_latitude     float64\n",
       "Delivery_location_longitude    float64\n",
       "Order_Date                      object\n",
       "Time_Orderd                     object\n",
       "Time_Order_picked               object\n",
       "Weatherconditions               object\n",
       "Road_traffic_density            object\n",
       "Vehicle_condition                int64\n",
       "Type_of_order                   object\n",
       "Type_of_vehicle                 object\n",
       "multiple_deliveries             object\n",
       "Festival                        object\n",
       "City                            object\n",
       "Time_taken(min)                 object\n",
       "dtype: object"
      ]
     },
     "execution_count": 171,
     "metadata": {},
     "output_type": "execute_result"
    }
   ],
   "source": [
    "data.dtypes"
   ]
  },
  {
   "cell_type": "code",
   "execution_count": 172,
   "id": "f7322cb9",
   "metadata": {
    "ExecuteTime": {
     "end_time": "2022-12-12T22:17:03.423887Z",
     "start_time": "2022-12-12T22:17:03.158090Z"
    }
   },
   "outputs": [],
   "source": [
    "#Convertendo o tipo\n",
    "data[\"Delivery_person_Age\"] = np.array(data[\"Delivery_person_Age\"], dtype= np.int64)\n",
    "#Convertendo o tipo\n",
    "data[\"Delivery_person_Ratings\"] = data[\"Delivery_person_Ratings\"].astype(float)\n",
    "#Convertendo o tipo, criando a feature Week_of_year e a convertendo para int\n",
    "data[\"Order_Date\"] = pd.to_datetime(data[\"Order_Date\"], format=\"%d-%m-%Y\")\n",
    "data['Week_of_year'] = data['Order_Date'].dt.strftime('%U')\n",
    "data['Week_of_year'] = np.array(data[\"Week_of_year\"], dtype= np.int64)\n",
    "#Convertendo o tipo\n",
    "data[\"multiple_deliveries\"] = np.array(data[\"multiple_deliveries\"], dtype= np.int64)        "
   ]
  },
  {
   "cell_type": "code",
   "execution_count": 173,
   "id": "b1feb136",
   "metadata": {
    "ExecuteTime": {
     "end_time": "2022-12-12T22:17:03.897453Z",
     "start_time": "2022-12-12T22:17:03.890453Z"
    },
    "scrolled": true
   },
   "outputs": [
    {
     "data": {
      "text/plain": [
       "ID                                     object\n",
       "Delivery_person_ID                     object\n",
       "Delivery_person_Age                     int64\n",
       "Delivery_person_Ratings               float64\n",
       "Restaurant_latitude                   float64\n",
       "Restaurant_longitude                  float64\n",
       "Delivery_location_latitude            float64\n",
       "Delivery_location_longitude           float64\n",
       "Order_Date                     datetime64[ns]\n",
       "Time_Orderd                            object\n",
       "Time_Order_picked                      object\n",
       "Weatherconditions                      object\n",
       "Road_traffic_density                   object\n",
       "Vehicle_condition                       int64\n",
       "Type_of_order                          object\n",
       "Type_of_vehicle                        object\n",
       "multiple_deliveries                     int64\n",
       "Festival                               object\n",
       "City                                   object\n",
       "Time_taken(min)                        object\n",
       "Week_of_year                            int64\n",
       "dtype: object"
      ]
     },
     "execution_count": 173,
     "metadata": {},
     "output_type": "execute_result"
    }
   ],
   "source": [
    "data.dtypes"
   ]
  },
  {
   "cell_type": "code",
   "execution_count": 174,
   "id": "935a2f5b",
   "metadata": {
    "ExecuteTime": {
     "end_time": "2022-12-12T22:17:04.500369Z",
     "start_time": "2022-12-12T22:17:04.485375Z"
    }
   },
   "outputs": [
    {
     "data": {
      "text/plain": [
       "0        (min) 24\n",
       "1        (min) 33\n",
       "2        (min) 26\n",
       "3        (min) 21\n",
       "4        (min) 30\n",
       "           ...   \n",
       "45588    (min) 32\n",
       "45589    (min) 36\n",
       "45590    (min) 16\n",
       "45591    (min) 26\n",
       "45592    (min) 36\n",
       "Name: Time_taken(min), Length: 45593, dtype: object"
      ]
     },
     "execution_count": 174,
     "metadata": {},
     "output_type": "execute_result"
    }
   ],
   "source": [
    "#Por último vamos fazer o tratamento de texto em números na feature Time_taken(min)\n",
    "data[\"Time_taken(min)\"]"
   ]
  },
  {
   "cell_type": "code",
   "execution_count": 175,
   "id": "503d5b54",
   "metadata": {
    "ExecuteTime": {
     "end_time": "2022-12-12T22:17:08.208256Z",
     "start_time": "2022-12-12T22:17:04.940459Z"
    }
   },
   "outputs": [],
   "source": [
    "data.reset_index(drop=True)\n",
    "for i in range( len(data)):\n",
    "    data.loc[i, \"Time_taken(min)\"] = re.findall(r'\\d+', data.loc[i, 'Time_taken(min)'])"
   ]
  },
  {
   "cell_type": "code",
   "execution_count": 176,
   "id": "bf33817b",
   "metadata": {
    "ExecuteTime": {
     "end_time": "2022-12-12T22:17:08.233699Z",
     "start_time": "2022-12-12T22:17:08.208256Z"
    }
   },
   "outputs": [
    {
     "data": {
      "text/plain": [
       "0        [24]\n",
       "1        [33]\n",
       "2        [26]\n",
       "3        [21]\n",
       "4        [30]\n",
       "         ... \n",
       "45588    [32]\n",
       "45589    [36]\n",
       "45590    [16]\n",
       "45591    [26]\n",
       "45592    [36]\n",
       "Name: Time_taken(min), Length: 45593, dtype: object"
      ]
     },
     "execution_count": 176,
     "metadata": {},
     "output_type": "execute_result"
    }
   ],
   "source": [
    "data[\"Time_taken(min)\"]"
   ]
  },
  {
   "cell_type": "code",
   "execution_count": 180,
   "id": "33aaf7ac-cb1a-4cbe-90f6-ee6b5321152d",
   "metadata": {
    "ExecuteTime": {
     "end_time": "2022-12-12T22:19:04.329514Z",
     "start_time": "2022-12-12T22:18:58.914207Z"
    },
    "scrolled": true
   },
   "outputs": [
    {
     "data": {
      "text/plain": [
       "ID                                     object\n",
       "Delivery_person_ID                     object\n",
       "Delivery_person_Age                     int64\n",
       "Delivery_person_Ratings               float64\n",
       "Restaurant_latitude                   float64\n",
       "Restaurant_longitude                  float64\n",
       "Delivery_location_latitude            float64\n",
       "Delivery_location_longitude           float64\n",
       "Order_Date                     datetime64[ns]\n",
       "Time_Orderd                            object\n",
       "Time_Order_picked                      object\n",
       "Weatherconditions                      object\n",
       "Road_traffic_density                   object\n",
       "Vehicle_condition                       int64\n",
       "Type_of_order                          object\n",
       "Type_of_vehicle                        object\n",
       "multiple_deliveries                     int64\n",
       "Festival                               object\n",
       "City                                   object\n",
       "Time_taken(min)                         int64\n",
       "Week_of_year                            int64\n",
       "dtype: object"
      ]
     },
     "execution_count": 180,
     "metadata": {},
     "output_type": "execute_result"
    }
   ],
   "source": [
    "data[\"Time_taken(min)\"] = data[\"Time_taken(min)\"].astype(str)\n",
    "\n",
    "# retirando o []\n",
    "for i in range(len(data)): \n",
    "    data.loc[i, 'Time_taken(min)'] = str(data.loc[i,'Time_taken(min)']).strip('[]')\n",
    "\n",
    "# retirando as \"\"\n",
    "for i in range(len(data)): \n",
    "    data.loc[i, 'Time_taken(min)'] = str(data.loc[i,'Time_taken(min)']).strip(\"''\")\n",
    "\n",
    "data['Time_taken(min)'] = np.array(data['Time_taken(min)'], dtype= np.int64)\n",
    "data.dtypes"
   ]
  },
  {
   "cell_type": "markdown",
   "id": "cc64d3c1",
   "metadata": {},
   "source": [
    "#### Extração do Dataset tratado para um arquivo .csv"
   ]
  },
  {
   "cell_type": "code",
   "execution_count": 181,
   "id": "f1c59bf3",
   "metadata": {
    "ExecuteTime": {
     "end_time": "2022-12-12T22:19:04.934440Z",
     "start_time": "2022-12-12T22:19:04.329514Z"
    }
   },
   "outputs": [],
   "source": [
    "data.to_csv('Datasets/train_tratado.csv', index=False)"
   ]
  }
 ],
 "metadata": {
  "kernelspec": {
   "display_name": "Python 3 (ipykernel)",
   "language": "python",
   "name": "python3"
  },
  "language_info": {
   "codemirror_mode": {
    "name": "ipython",
    "version": 3
   },
   "file_extension": ".py",
   "mimetype": "text/x-python",
   "name": "python",
   "nbconvert_exporter": "python",
   "pygments_lexer": "ipython3",
   "version": "3.9.12"
  }
 },
 "nbformat": 4,
 "nbformat_minor": 5
}
