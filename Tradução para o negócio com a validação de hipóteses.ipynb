{
 "cells": [
  {
   "cell_type": "markdown",
   "id": "d889bc1f",
   "metadata": {},
   "source": [
    "# Validação de hipóteses - Cury Delivery Food"
   ]
  },
  {
   "cell_type": "code",
   "execution_count": 27,
   "id": "fea89f34",
   "metadata": {
    "ExecuteTime": {
     "end_time": "2022-12-19T22:16:33.474082Z",
     "start_time": "2022-12-19T22:16:33.464817Z"
    }
   },
   "outputs": [],
   "source": [
    "import pandas as pd\n",
    "import numpy as np\n",
    "from datetime import datetime\n",
    "import re\n",
    "import plotly.express as px\n",
    "from matplotlib import pyplot as plt\n",
    "import folium\n",
    "from haversine import haversine"
   ]
  },
  {
   "cell_type": "markdown",
   "id": "0613f8f5",
   "metadata": {},
   "source": [
    "### Data Load"
   ]
  },
  {
   "cell_type": "code",
   "execution_count": 28,
   "id": "95225829",
   "metadata": {
    "ExecuteTime": {
     "end_time": "2022-12-19T22:16:34.424497Z",
     "start_time": "2022-12-19T22:16:34.257101Z"
    }
   },
   "outputs": [
    {
     "data": {
      "text/html": [
       "<div>\n",
       "<style scoped>\n",
       "    .dataframe tbody tr th:only-of-type {\n",
       "        vertical-align: middle;\n",
       "    }\n",
       "\n",
       "    .dataframe tbody tr th {\n",
       "        vertical-align: top;\n",
       "    }\n",
       "\n",
       "    .dataframe thead th {\n",
       "        text-align: right;\n",
       "    }\n",
       "</style>\n",
       "<table border=\"1\" class=\"dataframe\">\n",
       "  <thead>\n",
       "    <tr style=\"text-align: right;\">\n",
       "      <th></th>\n",
       "      <th>ID</th>\n",
       "      <th>Delivery_person_ID</th>\n",
       "      <th>Delivery_person_Age</th>\n",
       "      <th>Delivery_person_Ratings</th>\n",
       "      <th>Restaurant_latitude</th>\n",
       "      <th>Restaurant_longitude</th>\n",
       "      <th>Delivery_location_latitude</th>\n",
       "      <th>Delivery_location_longitude</th>\n",
       "      <th>Order_Date</th>\n",
       "      <th>Time_Orderd</th>\n",
       "      <th>...</th>\n",
       "      <th>Weatherconditions</th>\n",
       "      <th>Road_traffic_density</th>\n",
       "      <th>Vehicle_condition</th>\n",
       "      <th>Type_of_order</th>\n",
       "      <th>Type_of_vehicle</th>\n",
       "      <th>multiple_deliveries</th>\n",
       "      <th>Festival</th>\n",
       "      <th>City</th>\n",
       "      <th>Time_taken(min)</th>\n",
       "      <th>Week_of_year</th>\n",
       "    </tr>\n",
       "  </thead>\n",
       "  <tbody>\n",
       "    <tr>\n",
       "      <th>0</th>\n",
       "      <td>0x4607</td>\n",
       "      <td>INDORES13DEL02</td>\n",
       "      <td>37</td>\n",
       "      <td>4.9</td>\n",
       "      <td>22.745049</td>\n",
       "      <td>75.892471</td>\n",
       "      <td>22.765049</td>\n",
       "      <td>75.912471</td>\n",
       "      <td>2022-03-19</td>\n",
       "      <td>11:30:00</td>\n",
       "      <td>...</td>\n",
       "      <td>conditions Sunny</td>\n",
       "      <td>High</td>\n",
       "      <td>2</td>\n",
       "      <td>Snack</td>\n",
       "      <td>motorcycle</td>\n",
       "      <td>0</td>\n",
       "      <td>No</td>\n",
       "      <td>Urban</td>\n",
       "      <td>24</td>\n",
       "      <td>11</td>\n",
       "    </tr>\n",
       "    <tr>\n",
       "      <th>1</th>\n",
       "      <td>0xb379</td>\n",
       "      <td>BANGRES18DEL02</td>\n",
       "      <td>34</td>\n",
       "      <td>4.5</td>\n",
       "      <td>12.913041</td>\n",
       "      <td>77.683237</td>\n",
       "      <td>13.043041</td>\n",
       "      <td>77.813237</td>\n",
       "      <td>2022-03-25</td>\n",
       "      <td>19:45:00</td>\n",
       "      <td>...</td>\n",
       "      <td>conditions Stormy</td>\n",
       "      <td>Jam</td>\n",
       "      <td>2</td>\n",
       "      <td>Snack</td>\n",
       "      <td>scooter</td>\n",
       "      <td>1</td>\n",
       "      <td>No</td>\n",
       "      <td>Metropolitian</td>\n",
       "      <td>33</td>\n",
       "      <td>12</td>\n",
       "    </tr>\n",
       "    <tr>\n",
       "      <th>2</th>\n",
       "      <td>0x5d6d</td>\n",
       "      <td>BANGRES19DEL01</td>\n",
       "      <td>23</td>\n",
       "      <td>4.4</td>\n",
       "      <td>12.914264</td>\n",
       "      <td>77.678400</td>\n",
       "      <td>12.924264</td>\n",
       "      <td>77.688400</td>\n",
       "      <td>2022-03-19</td>\n",
       "      <td>08:30:00</td>\n",
       "      <td>...</td>\n",
       "      <td>conditions Sandstorms</td>\n",
       "      <td>Low</td>\n",
       "      <td>0</td>\n",
       "      <td>Drinks</td>\n",
       "      <td>motorcycle</td>\n",
       "      <td>1</td>\n",
       "      <td>No</td>\n",
       "      <td>Urban</td>\n",
       "      <td>26</td>\n",
       "      <td>11</td>\n",
       "    </tr>\n",
       "    <tr>\n",
       "      <th>3</th>\n",
       "      <td>0x7a6a</td>\n",
       "      <td>COIMBRES13DEL02</td>\n",
       "      <td>38</td>\n",
       "      <td>4.7</td>\n",
       "      <td>11.003669</td>\n",
       "      <td>76.976494</td>\n",
       "      <td>11.053669</td>\n",
       "      <td>77.026494</td>\n",
       "      <td>2022-04-05</td>\n",
       "      <td>18:00:00</td>\n",
       "      <td>...</td>\n",
       "      <td>conditions Sunny</td>\n",
       "      <td>Medium</td>\n",
       "      <td>0</td>\n",
       "      <td>Buffet</td>\n",
       "      <td>motorcycle</td>\n",
       "      <td>1</td>\n",
       "      <td>No</td>\n",
       "      <td>Metropolitian</td>\n",
       "      <td>21</td>\n",
       "      <td>14</td>\n",
       "    </tr>\n",
       "    <tr>\n",
       "      <th>4</th>\n",
       "      <td>0x70a2</td>\n",
       "      <td>CHENRES12DEL01</td>\n",
       "      <td>32</td>\n",
       "      <td>4.6</td>\n",
       "      <td>12.972793</td>\n",
       "      <td>80.249982</td>\n",
       "      <td>13.012793</td>\n",
       "      <td>80.289982</td>\n",
       "      <td>2022-03-26</td>\n",
       "      <td>13:30:00</td>\n",
       "      <td>...</td>\n",
       "      <td>conditions Cloudy</td>\n",
       "      <td>High</td>\n",
       "      <td>1</td>\n",
       "      <td>Snack</td>\n",
       "      <td>scooter</td>\n",
       "      <td>1</td>\n",
       "      <td>No</td>\n",
       "      <td>Metropolitian</td>\n",
       "      <td>30</td>\n",
       "      <td>12</td>\n",
       "    </tr>\n",
       "  </tbody>\n",
       "</table>\n",
       "<p>5 rows × 21 columns</p>\n",
       "</div>"
      ],
      "text/plain": [
       "       ID Delivery_person_ID  Delivery_person_Age  Delivery_person_Ratings  \\\n",
       "0  0x4607    INDORES13DEL02                    37                      4.9   \n",
       "1  0xb379    BANGRES18DEL02                    34                      4.5   \n",
       "2  0x5d6d    BANGRES19DEL01                    23                      4.4   \n",
       "3  0x7a6a   COIMBRES13DEL02                    38                      4.7   \n",
       "4  0x70a2    CHENRES12DEL01                    32                      4.6   \n",
       "\n",
       "   Restaurant_latitude  Restaurant_longitude  Delivery_location_latitude  \\\n",
       "0            22.745049             75.892471                   22.765049   \n",
       "1            12.913041             77.683237                   13.043041   \n",
       "2            12.914264             77.678400                   12.924264   \n",
       "3            11.003669             76.976494                   11.053669   \n",
       "4            12.972793             80.249982                   13.012793   \n",
       "\n",
       "   Delivery_location_longitude  Order_Date Time_Orderd  ...  \\\n",
       "0                    75.912471  2022-03-19    11:30:00  ...   \n",
       "1                    77.813237  2022-03-25    19:45:00  ...   \n",
       "2                    77.688400  2022-03-19    08:30:00  ...   \n",
       "3                    77.026494  2022-04-05    18:00:00  ...   \n",
       "4                    80.289982  2022-03-26    13:30:00  ...   \n",
       "\n",
       "       Weatherconditions Road_traffic_density Vehicle_condition  \\\n",
       "0       conditions Sunny                 High                 2   \n",
       "1      conditions Stormy                  Jam                 2   \n",
       "2  conditions Sandstorms                  Low                 0   \n",
       "3       conditions Sunny               Medium                 0   \n",
       "4      conditions Cloudy                 High                 1   \n",
       "\n",
       "   Type_of_order Type_of_vehicle multiple_deliveries  Festival           City  \\\n",
       "0         Snack       motorcycle                   0        No          Urban   \n",
       "1         Snack          scooter                   1        No  Metropolitian   \n",
       "2        Drinks       motorcycle                   1        No          Urban   \n",
       "3        Buffet       motorcycle                   1        No  Metropolitian   \n",
       "4         Snack          scooter                   1        No  Metropolitian   \n",
       "\n",
       "  Time_taken(min)  Week_of_year  \n",
       "0              24            11  \n",
       "1              33            12  \n",
       "2              26            11  \n",
       "3              21            14  \n",
       "4              30            12  \n",
       "\n",
       "[5 rows x 21 columns]"
      ]
     },
     "execution_count": 28,
     "metadata": {},
     "output_type": "execute_result"
    }
   ],
   "source": [
    "data = pd.read_csv('../Datasets/train_tratado.csv')\n",
    "data.head()"
   ]
  },
  {
   "cell_type": "markdown",
   "id": "129858bc",
   "metadata": {},
   "source": [
    "### H1 - Entregas realizadas com o veículo do tipo \"Motorcicle\" são, na média, 50% mais rápidas que as entregas feitas com bicicletas"
   ]
  },
  {
   "cell_type": "code",
   "execution_count": 29,
   "id": "42ade711",
   "metadata": {
    "ExecuteTime": {
     "end_time": "2022-12-19T22:16:35.452891Z",
     "start_time": "2022-12-19T22:16:35.424468Z"
    }
   },
   "outputs": [
    {
     "name": "stdout",
     "output_type": "stream",
     "text": [
      "['motorcycle' 'scooter' 'electric_scooter' 'bicycle']\n"
     ]
    }
   ],
   "source": [
    "print(data['Type_of_vehicle'].unique())\n",
    "\n",
    "time_bicycle = data.loc[data['Type_of_vehicle'] == 'bicycle', 'Time_taken(min)'].mean()\n",
    "\n",
    "time_motorcycle = data.loc[data['Type_of_vehicle'] == 'motorcycle', 'Time_taken(min)'].mean()\n",
    "\n",
    "time_scooter = data.loc[data['Type_of_vehicle'] == 'scooter', 'Time_taken(min)'].mean()\n",
    "\n",
    "time_eletric_scooter = data.loc[data['Type_of_vehicle'] == 'electric_scooter', 'Time_taken(min)'].mean()"
   ]
  },
  {
   "cell_type": "code",
   "execution_count": 30,
   "id": "e90a7056",
   "metadata": {
    "ExecuteTime": {
     "end_time": "2022-12-19T22:16:35.918615Z",
     "start_time": "2022-12-19T22:16:35.909890Z"
    }
   },
   "outputs": [
    {
     "name": "stdout",
     "output_type": "stream",
     "text": [
      "26.426470588235293\n",
      "27.60567429544165\n",
      "24.48075412411626\n",
      "24.470110120608286\n"
     ]
    }
   ],
   "source": [
    "print(time_bicycle)\n",
    "\n",
    "print(time_motorcycle)\n",
    "\n",
    "print(time_scooter)\n",
    "\n",
    "print(time_eletric_scooter)"
   ]
  },
  {
   "cell_type": "markdown",
   "id": "79ebe019",
   "metadata": {},
   "source": [
    "### H2 - Entregas realizadas com bicicletas são em geral mais lentas que as feitas com outros tipos de veículos"
   ]
  },
  {
   "cell_type": "code",
   "execution_count": 31,
   "id": "c94eeea7",
   "metadata": {
    "ExecuteTime": {
     "end_time": "2022-12-19T22:16:36.866776Z",
     "start_time": "2022-12-19T22:16:36.848140Z"
    }
   },
   "outputs": [
    {
     "data": {
      "text/plain": [
       "Type_of_vehicle\n",
       "motorcycle          27.605674\n",
       "bicycle             26.426471\n",
       "scooter             24.480754\n",
       "electric_scooter    24.470110\n",
       "Name: Time_taken(min), dtype: float64"
      ]
     },
     "execution_count": 31,
     "metadata": {},
     "output_type": "execute_result"
    }
   ],
   "source": [
    "data.groupby('Type_of_vehicle')['Time_taken(min)'].mean().sort_values(ascending=False)"
   ]
  },
  {
   "cell_type": "markdown",
   "id": "528314a7",
   "metadata": {},
   "source": [
    "### H3 - As entregas em cidades mtropolitanas são, em média, 30% maiores que nas outras cidades"
   ]
  },
  {
   "cell_type": "code",
   "execution_count": 48,
   "id": "c279931d",
   "metadata": {
    "ExecuteTime": {
     "end_time": "2022-12-19T22:21:46.900873Z",
     "start_time": "2022-12-19T22:21:46.896878Z"
    }
   },
   "outputs": [],
   "source": [
    "df = pd.DataFrame(citys).astype(int)"
   ]
  },
  {
   "cell_type": "code",
   "execution_count": 73,
   "id": "77b9bdf2",
   "metadata": {
    "ExecuteTime": {
     "end_time": "2022-12-19T22:33:45.132177Z",
     "start_time": "2022-12-19T22:33:45.116547Z"
    }
   },
   "outputs": [
    {
     "name": "stdout",
     "output_type": "stream",
     "text": [
      "O percentual de entregas na cidade Metropolitana corresponde a 75% do total de entregas 2\n",
      "O percentual de entregas na cidade Urban corresponde a 22% do total de entregas 2\n",
      "O percentual de entregas na cidade Semi-Urban corresponde a 3% do total de entregas 2\n"
     ]
    }
   ],
   "source": [
    "print('O percentual de entregas na cidade Metropolitana corresponde a {}% do total de entregas'.format(round((df['ID'][0]/df['ID'].sum())*100)),2)\n",
    "print('O percentual de entregas na cidade Urban corresponde a {}% do total de entregas'.format(round((df['ID'][1]/df['ID'].sum())*100)),2)\n",
    "print('O percentual de entregas na cidade Semi-Urban corresponde a {}% do total de entregas'.format(round((df['ID'][2]/df['ID'].sum())*100)),2)"
   ]
  },
  {
   "cell_type": "markdown",
   "id": "d88bd114",
   "metadata": {},
   "source": [
    "### H4 - Os entregadores mais novos fazem mais entregas que os mais velhos"
   ]
  },
  {
   "cell_type": "code",
   "execution_count": 76,
   "id": "4349e311",
   "metadata": {
    "ExecuteTime": {
     "end_time": "2022-12-19T22:35:49.026217Z",
     "start_time": "2022-12-19T22:35:49.019216Z"
    }
   },
   "outputs": [
    {
     "data": {
      "text/plain": [
       "15"
      ]
     },
     "execution_count": 76,
     "metadata": {},
     "output_type": "execute_result"
    }
   ],
   "source": [
    "data['Delivery_person_Age'].min()"
   ]
  },
  {
   "cell_type": "code",
   "execution_count": 79,
   "id": "289e9f80",
   "metadata": {
    "ExecuteTime": {
     "end_time": "2022-12-19T22:36:59.211354Z",
     "start_time": "2022-12-19T22:36:59.200341Z"
    }
   },
   "outputs": [
    {
     "data": {
      "text/plain": [
       "50"
      ]
     },
     "execution_count": 79,
     "metadata": {},
     "output_type": "execute_result"
    }
   ],
   "source": [
    "data['Delivery_person_Age'].max()"
   ]
  },
  {
   "cell_type": "code",
   "execution_count": 78,
   "id": "0f424ad6",
   "metadata": {
    "ExecuteTime": {
     "end_time": "2022-12-19T22:36:42.848777Z",
     "start_time": "2022-12-19T22:36:42.841811Z"
    }
   },
   "outputs": [
    {
     "data": {
      "text/plain": [
       "38"
      ]
     },
     "execution_count": 78,
     "metadata": {},
     "output_type": "execute_result"
    }
   ],
   "source": [
    "len(data.loc[data['Delivery_person_Age'] == 15, 'ID'])"
   ]
  },
  {
   "cell_type": "code",
   "execution_count": 80,
   "id": "87ac2d47",
   "metadata": {
    "ExecuteTime": {
     "end_time": "2022-12-19T22:37:23.530875Z",
     "start_time": "2022-12-19T22:37:23.518431Z"
    }
   },
   "outputs": [
    {
     "data": {
      "text/plain": [
       "53"
      ]
     },
     "execution_count": 80,
     "metadata": {},
     "output_type": "execute_result"
    }
   ],
   "source": [
    "len(data.loc[data['Delivery_person_Age'] == 50, 'ID'])"
   ]
  },
  {
   "cell_type": "markdown",
   "id": "b7d68e55",
   "metadata": {},
   "source": [
    "### H5 - O número de entregas com a condição de clima ensolarada é 50% maior que a de tempestade"
   ]
  },
  {
   "cell_type": "code",
   "execution_count": 92,
   "id": "721f00e4",
   "metadata": {
    "ExecuteTime": {
     "end_time": "2022-12-19T22:58:33.120777Z",
     "start_time": "2022-12-19T22:58:33.106841Z"
    },
    "scrolled": true
   },
   "outputs": [
    {
     "data": {
      "text/plain": [
       "7284"
      ]
     },
     "execution_count": 92,
     "metadata": {},
     "output_type": "execute_result"
    }
   ],
   "source": [
    "data.loc[data['Weatherconditions'] == 'conditions Sunny', 'ID'].count()"
   ]
  },
  {
   "cell_type": "code",
   "execution_count": 93,
   "id": "31f29380",
   "metadata": {
    "ExecuteTime": {
     "end_time": "2022-12-19T22:59:08.296446Z",
     "start_time": "2022-12-19T22:59:08.286302Z"
    }
   },
   "outputs": [
    {
     "data": {
      "text/plain": [
       "7586"
      ]
     },
     "execution_count": 93,
     "metadata": {},
     "output_type": "execute_result"
    }
   ],
   "source": [
    "data.loc[data['Weatherconditions'] == 'conditions Stormy', 'ID'].count()"
   ]
  },
  {
   "cell_type": "markdown",
   "id": "469cb0b3",
   "metadata": {},
   "source": [
    "### H6 -  Os 10 entregadores mais rápidos têm a menor faixa etária"
   ]
  },
  {
   "cell_type": "code",
   "execution_count": 97,
   "id": "021ffeb1",
   "metadata": {
    "ExecuteTime": {
     "end_time": "2022-12-19T23:14:40.072455Z",
     "start_time": "2022-12-19T23:14:40.022315Z"
    }
   },
   "outputs": [
    {
     "data": {
      "text/html": [
       "<div>\n",
       "<style scoped>\n",
       "    .dataframe tbody tr th:only-of-type {\n",
       "        vertical-align: middle;\n",
       "    }\n",
       "\n",
       "    .dataframe tbody tr th {\n",
       "        vertical-align: top;\n",
       "    }\n",
       "\n",
       "    .dataframe thead th {\n",
       "        text-align: right;\n",
       "    }\n",
       "</style>\n",
       "<table border=\"1\" class=\"dataframe\">\n",
       "  <thead>\n",
       "    <tr style=\"text-align: right;\">\n",
       "      <th></th>\n",
       "      <th>index</th>\n",
       "      <th>City</th>\n",
       "      <th>Delivery_person_ID</th>\n",
       "      <th>Delivery_person_Age</th>\n",
       "      <th>Time_taken(min)</th>\n",
       "    </tr>\n",
       "  </thead>\n",
       "  <tbody>\n",
       "    <tr>\n",
       "      <th>0</th>\n",
       "      <td>870</td>\n",
       "      <td>Metropolitian</td>\n",
       "      <td>ALHRES19DEL03</td>\n",
       "      <td>26</td>\n",
       "      <td>10</td>\n",
       "    </tr>\n",
       "    <tr>\n",
       "      <th>1</th>\n",
       "      <td>12350</td>\n",
       "      <td>Metropolitian</td>\n",
       "      <td>MYSRES14DEL01</td>\n",
       "      <td>22</td>\n",
       "      <td>10</td>\n",
       "    </tr>\n",
       "    <tr>\n",
       "      <th>2</th>\n",
       "      <td>15739</td>\n",
       "      <td>Metropolitian</td>\n",
       "      <td>SURRES20DEL02</td>\n",
       "      <td>26</td>\n",
       "      <td>10</td>\n",
       "    </tr>\n",
       "    <tr>\n",
       "      <th>3</th>\n",
       "      <td>16265</td>\n",
       "      <td>Metropolitian</td>\n",
       "      <td>VADRES09DEL03</td>\n",
       "      <td>25</td>\n",
       "      <td>10</td>\n",
       "    </tr>\n",
       "    <tr>\n",
       "      <th>4</th>\n",
       "      <td>6488</td>\n",
       "      <td>Metropolitian</td>\n",
       "      <td>HYDRES15DEL02</td>\n",
       "      <td>29</td>\n",
       "      <td>10</td>\n",
       "    </tr>\n",
       "    <tr>\n",
       "      <th>5</th>\n",
       "      <td>14616</td>\n",
       "      <td>Metropolitian</td>\n",
       "      <td>RANCHIRES18DEL01</td>\n",
       "      <td>37</td>\n",
       "      <td>10</td>\n",
       "    </tr>\n",
       "    <tr>\n",
       "      <th>6</th>\n",
       "      <td>6221</td>\n",
       "      <td>Metropolitian</td>\n",
       "      <td>HYDRES09DEL02</td>\n",
       "      <td>25</td>\n",
       "      <td>10</td>\n",
       "    </tr>\n",
       "    <tr>\n",
       "      <th>7</th>\n",
       "      <td>6222</td>\n",
       "      <td>Metropolitian</td>\n",
       "      <td>HYDRES09DEL02</td>\n",
       "      <td>26</td>\n",
       "      <td>10</td>\n",
       "    </tr>\n",
       "    <tr>\n",
       "      <th>8</th>\n",
       "      <td>10750</td>\n",
       "      <td>Metropolitian</td>\n",
       "      <td>MUMRES02DEL01</td>\n",
       "      <td>27</td>\n",
       "      <td>10</td>\n",
       "    </tr>\n",
       "    <tr>\n",
       "      <th>9</th>\n",
       "      <td>14968</td>\n",
       "      <td>Metropolitian</td>\n",
       "      <td>SURRES04DEL01</td>\n",
       "      <td>22</td>\n",
       "      <td>10</td>\n",
       "    </tr>\n",
       "    <tr>\n",
       "      <th>0</th>\n",
       "      <td>20749</td>\n",
       "      <td>Urban</td>\n",
       "      <td>HYDRES07DEL03</td>\n",
       "      <td>25</td>\n",
       "      <td>10</td>\n",
       "    </tr>\n",
       "    <tr>\n",
       "      <th>1</th>\n",
       "      <td>24482</td>\n",
       "      <td>Urban</td>\n",
       "      <td>RANCHIRES05DEL01</td>\n",
       "      <td>26</td>\n",
       "      <td>10</td>\n",
       "    </tr>\n",
       "    <tr>\n",
       "      <th>2</th>\n",
       "      <td>24269</td>\n",
       "      <td>Urban</td>\n",
       "      <td>PUNERES18DEL01</td>\n",
       "      <td>20</td>\n",
       "      <td>10</td>\n",
       "    </tr>\n",
       "    <tr>\n",
       "      <th>3</th>\n",
       "      <td>25886</td>\n",
       "      <td>Urban</td>\n",
       "      <td>VADRES17DEL01</td>\n",
       "      <td>25</td>\n",
       "      <td>10</td>\n",
       "    </tr>\n",
       "    <tr>\n",
       "      <th>4</th>\n",
       "      <td>24270</td>\n",
       "      <td>Urban</td>\n",
       "      <td>PUNERES18DEL01</td>\n",
       "      <td>21</td>\n",
       "      <td>10</td>\n",
       "    </tr>\n",
       "    <tr>\n",
       "      <th>5</th>\n",
       "      <td>24722</td>\n",
       "      <td>Urban</td>\n",
       "      <td>RANCHIRES14DEL02</td>\n",
       "      <td>23</td>\n",
       "      <td>10</td>\n",
       "    </tr>\n",
       "    <tr>\n",
       "      <th>6</th>\n",
       "      <td>22187</td>\n",
       "      <td>Urban</td>\n",
       "      <td>KNPRES04DEL03</td>\n",
       "      <td>24</td>\n",
       "      <td>10</td>\n",
       "    </tr>\n",
       "    <tr>\n",
       "      <th>7</th>\n",
       "      <td>18778</td>\n",
       "      <td>Urban</td>\n",
       "      <td>BANGRES07DEL01</td>\n",
       "      <td>29</td>\n",
       "      <td>10</td>\n",
       "    </tr>\n",
       "    <tr>\n",
       "      <th>8</th>\n",
       "      <td>20567</td>\n",
       "      <td>Urban</td>\n",
       "      <td>HYDRES01DEL01</td>\n",
       "      <td>26</td>\n",
       "      <td>10</td>\n",
       "    </tr>\n",
       "    <tr>\n",
       "      <th>9</th>\n",
       "      <td>20575</td>\n",
       "      <td>Urban</td>\n",
       "      <td>HYDRES01DEL02</td>\n",
       "      <td>20</td>\n",
       "      <td>10</td>\n",
       "    </tr>\n",
       "    <tr>\n",
       "      <th>0</th>\n",
       "      <td>16910</td>\n",
       "      <td>Semi-Urban</td>\n",
       "      <td>BANGRES11DEL02</td>\n",
       "      <td>25</td>\n",
       "      <td>10</td>\n",
       "    </tr>\n",
       "    <tr>\n",
       "      <th>1</th>\n",
       "      <td>17279</td>\n",
       "      <td>Semi-Urban</td>\n",
       "      <td>HYDRES15DEL03</td>\n",
       "      <td>25</td>\n",
       "      <td>10</td>\n",
       "    </tr>\n",
       "    <tr>\n",
       "      <th>2</th>\n",
       "      <td>17782</td>\n",
       "      <td>Semi-Urban</td>\n",
       "      <td>PUNERES06DEL01</td>\n",
       "      <td>24</td>\n",
       "      <td>10</td>\n",
       "    </tr>\n",
       "    <tr>\n",
       "      <th>3</th>\n",
       "      <td>18004</td>\n",
       "      <td>Semi-Urban</td>\n",
       "      <td>SURRES16DEL02</td>\n",
       "      <td>24</td>\n",
       "      <td>10</td>\n",
       "    </tr>\n",
       "    <tr>\n",
       "      <th>4</th>\n",
       "      <td>17197</td>\n",
       "      <td>Semi-Urban</td>\n",
       "      <td>GOARES14DEL03</td>\n",
       "      <td>20</td>\n",
       "      <td>10</td>\n",
       "    </tr>\n",
       "    <tr>\n",
       "      <th>5</th>\n",
       "      <td>17863</td>\n",
       "      <td>Semi-Urban</td>\n",
       "      <td>RANCHIRES04DEL01</td>\n",
       "      <td>28</td>\n",
       "      <td>10</td>\n",
       "    </tr>\n",
       "    <tr>\n",
       "      <th>6</th>\n",
       "      <td>16885</td>\n",
       "      <td>Semi-Urban</td>\n",
       "      <td>BANGRES06DEL02</td>\n",
       "      <td>20</td>\n",
       "      <td>10</td>\n",
       "    </tr>\n",
       "    <tr>\n",
       "      <th>7</th>\n",
       "      <td>17860</td>\n",
       "      <td>Semi-Urban</td>\n",
       "      <td>RANCHIRES03DEL02</td>\n",
       "      <td>28</td>\n",
       "      <td>10</td>\n",
       "    </tr>\n",
       "    <tr>\n",
       "      <th>8</th>\n",
       "      <td>17474</td>\n",
       "      <td>Semi-Urban</td>\n",
       "      <td>JAPRES19DEL01</td>\n",
       "      <td>25</td>\n",
       "      <td>10</td>\n",
       "    </tr>\n",
       "    <tr>\n",
       "      <th>9</th>\n",
       "      <td>18032</td>\n",
       "      <td>Semi-Urban</td>\n",
       "      <td>VADRES03DEL03</td>\n",
       "      <td>30</td>\n",
       "      <td>10</td>\n",
       "    </tr>\n",
       "  </tbody>\n",
       "</table>\n",
       "</div>"
      ],
      "text/plain": [
       "   index           City Delivery_person_ID  Delivery_person_Age  \\\n",
       "0    870  Metropolitian     ALHRES19DEL03                    26   \n",
       "1  12350  Metropolitian     MYSRES14DEL01                    22   \n",
       "2  15739  Metropolitian     SURRES20DEL02                    26   \n",
       "3  16265  Metropolitian     VADRES09DEL03                    25   \n",
       "4   6488  Metropolitian     HYDRES15DEL02                    29   \n",
       "5  14616  Metropolitian  RANCHIRES18DEL01                    37   \n",
       "6   6221  Metropolitian     HYDRES09DEL02                    25   \n",
       "7   6222  Metropolitian     HYDRES09DEL02                    26   \n",
       "8  10750  Metropolitian     MUMRES02DEL01                    27   \n",
       "9  14968  Metropolitian     SURRES04DEL01                    22   \n",
       "0  20749          Urban     HYDRES07DEL03                    25   \n",
       "1  24482          Urban  RANCHIRES05DEL01                    26   \n",
       "2  24269          Urban    PUNERES18DEL01                    20   \n",
       "3  25886          Urban     VADRES17DEL01                    25   \n",
       "4  24270          Urban    PUNERES18DEL01                    21   \n",
       "5  24722          Urban  RANCHIRES14DEL02                    23   \n",
       "6  22187          Urban     KNPRES04DEL03                    24   \n",
       "7  18778          Urban    BANGRES07DEL01                    29   \n",
       "8  20567          Urban     HYDRES01DEL01                    26   \n",
       "9  20575          Urban     HYDRES01DEL02                    20   \n",
       "0  16910     Semi-Urban    BANGRES11DEL02                    25   \n",
       "1  17279     Semi-Urban     HYDRES15DEL03                    25   \n",
       "2  17782     Semi-Urban    PUNERES06DEL01                    24   \n",
       "3  18004     Semi-Urban     SURRES16DEL02                    24   \n",
       "4  17197     Semi-Urban     GOARES14DEL03                    20   \n",
       "5  17863     Semi-Urban  RANCHIRES04DEL01                    28   \n",
       "6  16885     Semi-Urban    BANGRES06DEL02                    20   \n",
       "7  17860     Semi-Urban  RANCHIRES03DEL02                    28   \n",
       "8  17474     Semi-Urban     JAPRES19DEL01                    25   \n",
       "9  18032     Semi-Urban     VADRES03DEL03                    30   \n",
       "\n",
       "   Time_taken(min)  \n",
       "0               10  \n",
       "1               10  \n",
       "2               10  \n",
       "3               10  \n",
       "4               10  \n",
       "5               10  \n",
       "6               10  \n",
       "7               10  \n",
       "8               10  \n",
       "9               10  \n",
       "0               10  \n",
       "1               10  \n",
       "2               10  \n",
       "3               10  \n",
       "4               10  \n",
       "5               10  \n",
       "6               10  \n",
       "7               10  \n",
       "8               10  \n",
       "9               10  \n",
       "0               10  \n",
       "1               10  \n",
       "2               10  \n",
       "3               10  \n",
       "4               10  \n",
       "5               10  \n",
       "6               10  \n",
       "7               10  \n",
       "8               10  \n",
       "9               10  "
      ]
     },
     "execution_count": 97,
     "metadata": {},
     "output_type": "execute_result"
    }
   ],
   "source": [
    "df_aux = pd.DataFrame(data.groupby(['City', 'Delivery_person_ID', 'Delivery_person_Age'])['Time_taken(min)'].min()).reset_index()\n",
    "\n",
    "metropoli = df_aux.loc[df_aux['City'] == 'Metropolitian', :].sort_values('Time_taken(min)', ascending=True).reset_index().head(10)\n",
    "\n",
    "urba = df_aux.loc[df_aux['City'] == 'Urban', :].sort_values('Time_taken(min)', ascending=True).reset_index().head(10)\n",
    "\n",
    "semi_ur = df_aux.loc[df_aux['City'] == 'Semi-Urban', :].sort_values('Time_taken(min)', ascending=True).reset_index().head(10)\n",
    "\n",
    "city_concat = pd.concat([metropoli, urba, semi_ur], axis=0)\n",
    "\n",
    "city_concat"
   ]
  },
  {
   "cell_type": "code",
   "execution_count": 98,
   "id": "0caf8395",
   "metadata": {
    "ExecuteTime": {
     "end_time": "2022-12-19T23:14:43.773993Z",
     "start_time": "2022-12-19T23:14:43.750505Z"
    }
   },
   "outputs": [
    {
     "data": {
      "text/plain": [
       "25.1"
      ]
     },
     "execution_count": 98,
     "metadata": {},
     "output_type": "execute_result"
    }
   ],
   "source": [
    "city_concat['Delivery_person_Age'].mean()"
   ]
  },
  {
   "cell_type": "markdown",
   "id": "866c6b0b",
   "metadata": {},
   "source": [
    "### H7 - Os 10 entregadores mais lentos têm a maior faixa etária"
   ]
  },
  {
   "cell_type": "code",
   "execution_count": 99,
   "id": "679577f0",
   "metadata": {
    "ExecuteTime": {
     "end_time": "2022-12-19T23:17:25.123663Z",
     "start_time": "2022-12-19T23:17:25.073487Z"
    },
    "scrolled": true
   },
   "outputs": [
    {
     "data": {
      "text/html": [
       "<div>\n",
       "<style scoped>\n",
       "    .dataframe tbody tr th:only-of-type {\n",
       "        vertical-align: middle;\n",
       "    }\n",
       "\n",
       "    .dataframe tbody tr th {\n",
       "        vertical-align: top;\n",
       "    }\n",
       "\n",
       "    .dataframe thead th {\n",
       "        text-align: right;\n",
       "    }\n",
       "</style>\n",
       "<table border=\"1\" class=\"dataframe\">\n",
       "  <thead>\n",
       "    <tr style=\"text-align: right;\">\n",
       "      <th></th>\n",
       "      <th>index</th>\n",
       "      <th>City</th>\n",
       "      <th>Delivery_person_ID</th>\n",
       "      <th>Delivery_person_Age</th>\n",
       "      <th>Time_taken(min)</th>\n",
       "    </tr>\n",
       "  </thead>\n",
       "  <tbody>\n",
       "    <tr>\n",
       "      <th>0</th>\n",
       "      <td>10160</td>\n",
       "      <td>Metropolitian</td>\n",
       "      <td>KOLRES19DEL02</td>\n",
       "      <td>30</td>\n",
       "      <td>54</td>\n",
       "    </tr>\n",
       "    <tr>\n",
       "      <th>1</th>\n",
       "      <td>11763</td>\n",
       "      <td>Metropolitian</td>\n",
       "      <td>MYSRES01DEL02</td>\n",
       "      <td>33</td>\n",
       "      <td>54</td>\n",
       "    </tr>\n",
       "    <tr>\n",
       "      <th>2</th>\n",
       "      <td>10738</td>\n",
       "      <td>Metropolitian</td>\n",
       "      <td>MUMRES01DEL03</td>\n",
       "      <td>34</td>\n",
       "      <td>54</td>\n",
       "    </tr>\n",
       "    <tr>\n",
       "      <th>3</th>\n",
       "      <td>4788</td>\n",
       "      <td>Metropolitian</td>\n",
       "      <td>COIMBRES19DEL02</td>\n",
       "      <td>32</td>\n",
       "      <td>54</td>\n",
       "    </tr>\n",
       "    <tr>\n",
       "      <th>4</th>\n",
       "      <td>14496</td>\n",
       "      <td>Metropolitian</td>\n",
       "      <td>RANCHIRES15DEL03</td>\n",
       "      <td>39</td>\n",
       "      <td>54</td>\n",
       "    </tr>\n",
       "    <tr>\n",
       "      <th>5</th>\n",
       "      <td>6255</td>\n",
       "      <td>Metropolitian</td>\n",
       "      <td>HYDRES11DEL01</td>\n",
       "      <td>23</td>\n",
       "      <td>54</td>\n",
       "    </tr>\n",
       "    <tr>\n",
       "      <th>6</th>\n",
       "      <td>10833</td>\n",
       "      <td>Metropolitian</td>\n",
       "      <td>MUMRES03DEL03</td>\n",
       "      <td>21</td>\n",
       "      <td>54</td>\n",
       "    </tr>\n",
       "    <tr>\n",
       "      <th>7</th>\n",
       "      <td>14461</td>\n",
       "      <td>Metropolitian</td>\n",
       "      <td>RANCHIRES15DEL02</td>\n",
       "      <td>22</td>\n",
       "      <td>54</td>\n",
       "    </tr>\n",
       "    <tr>\n",
       "      <th>8</th>\n",
       "      <td>7604</td>\n",
       "      <td>Metropolitian</td>\n",
       "      <td>INDORES16DEL03</td>\n",
       "      <td>37</td>\n",
       "      <td>54</td>\n",
       "    </tr>\n",
       "    <tr>\n",
       "      <th>9</th>\n",
       "      <td>14449</td>\n",
       "      <td>Metropolitian</td>\n",
       "      <td>RANCHIRES15DEL01</td>\n",
       "      <td>30</td>\n",
       "      <td>54</td>\n",
       "    </tr>\n",
       "    <tr>\n",
       "      <th>0</th>\n",
       "      <td>21723</td>\n",
       "      <td>Urban</td>\n",
       "      <td>JAPRES05DEL02</td>\n",
       "      <td>31</td>\n",
       "      <td>54</td>\n",
       "    </tr>\n",
       "    <tr>\n",
       "      <th>1</th>\n",
       "      <td>24189</td>\n",
       "      <td>Urban</td>\n",
       "      <td>PUNERES14DEL02</td>\n",
       "      <td>30</td>\n",
       "      <td>54</td>\n",
       "    </tr>\n",
       "    <tr>\n",
       "      <th>2</th>\n",
       "      <td>25627</td>\n",
       "      <td>Urban</td>\n",
       "      <td>VADRES05DEL03</td>\n",
       "      <td>29</td>\n",
       "      <td>54</td>\n",
       "    </tr>\n",
       "    <tr>\n",
       "      <th>3</th>\n",
       "      <td>21897</td>\n",
       "      <td>Urban</td>\n",
       "      <td>JAPRES12DEL02</td>\n",
       "      <td>39</td>\n",
       "      <td>54</td>\n",
       "    </tr>\n",
       "    <tr>\n",
       "      <th>4</th>\n",
       "      <td>22027</td>\n",
       "      <td>Urban</td>\n",
       "      <td>JAPRES17DEL01</td>\n",
       "      <td>27</td>\n",
       "      <td>54</td>\n",
       "    </tr>\n",
       "    <tr>\n",
       "      <th>5</th>\n",
       "      <td>25141</td>\n",
       "      <td>Urban</td>\n",
       "      <td>SURRES08DEL03</td>\n",
       "      <td>31</td>\n",
       "      <td>54</td>\n",
       "    </tr>\n",
       "    <tr>\n",
       "      <th>6</th>\n",
       "      <td>25129</td>\n",
       "      <td>Urban</td>\n",
       "      <td>SURRES08DEL02</td>\n",
       "      <td>27</td>\n",
       "      <td>54</td>\n",
       "    </tr>\n",
       "    <tr>\n",
       "      <th>7</th>\n",
       "      <td>18332</td>\n",
       "      <td>Urban</td>\n",
       "      <td>ALHRES07DEL02</td>\n",
       "      <td>30</td>\n",
       "      <td>53</td>\n",
       "    </tr>\n",
       "    <tr>\n",
       "      <th>8</th>\n",
       "      <td>25081</td>\n",
       "      <td>Urban</td>\n",
       "      <td>SURRES06DEL03</td>\n",
       "      <td>27</td>\n",
       "      <td>53</td>\n",
       "    </tr>\n",
       "    <tr>\n",
       "      <th>9</th>\n",
       "      <td>22199</td>\n",
       "      <td>Urban</td>\n",
       "      <td>KNPRES06DEL01</td>\n",
       "      <td>21</td>\n",
       "      <td>53</td>\n",
       "    </tr>\n",
       "    <tr>\n",
       "      <th>0</th>\n",
       "      <td>17712</td>\n",
       "      <td>Semi-Urban</td>\n",
       "      <td>MYSRES12DEL01</td>\n",
       "      <td>31</td>\n",
       "      <td>54</td>\n",
       "    </tr>\n",
       "    <tr>\n",
       "      <th>1</th>\n",
       "      <td>17204</td>\n",
       "      <td>Semi-Urban</td>\n",
       "      <td>GOARES18DEL01</td>\n",
       "      <td>39</td>\n",
       "      <td>54</td>\n",
       "    </tr>\n",
       "    <tr>\n",
       "      <th>2</th>\n",
       "      <td>17430</td>\n",
       "      <td>Semi-Urban</td>\n",
       "      <td>JAPRES09DEL01</td>\n",
       "      <td>39</td>\n",
       "      <td>54</td>\n",
       "    </tr>\n",
       "    <tr>\n",
       "      <th>3</th>\n",
       "      <td>17355</td>\n",
       "      <td>Semi-Urban</td>\n",
       "      <td>INDORES15DEL01</td>\n",
       "      <td>35</td>\n",
       "      <td>54</td>\n",
       "    </tr>\n",
       "    <tr>\n",
       "      <th>4</th>\n",
       "      <td>17719</td>\n",
       "      <td>Semi-Urban</td>\n",
       "      <td>MYSRES13DEL02</td>\n",
       "      <td>37</td>\n",
       "      <td>54</td>\n",
       "    </tr>\n",
       "    <tr>\n",
       "      <th>5</th>\n",
       "      <td>18090</td>\n",
       "      <td>Semi-Urban</td>\n",
       "      <td>VADRES18DEL01</td>\n",
       "      <td>36</td>\n",
       "      <td>54</td>\n",
       "    </tr>\n",
       "    <tr>\n",
       "      <th>6</th>\n",
       "      <td>16807</td>\n",
       "      <td>Semi-Urban</td>\n",
       "      <td>AGRRES17DEL01</td>\n",
       "      <td>32</td>\n",
       "      <td>54</td>\n",
       "    </tr>\n",
       "    <tr>\n",
       "      <th>7</th>\n",
       "      <td>17294</td>\n",
       "      <td>Semi-Urban</td>\n",
       "      <td>HYDRES19DEL01</td>\n",
       "      <td>30</td>\n",
       "      <td>54</td>\n",
       "    </tr>\n",
       "    <tr>\n",
       "      <th>8</th>\n",
       "      <td>17345</td>\n",
       "      <td>Semi-Urban</td>\n",
       "      <td>INDORES12DEL02</td>\n",
       "      <td>30</td>\n",
       "      <td>54</td>\n",
       "    </tr>\n",
       "    <tr>\n",
       "      <th>9</th>\n",
       "      <td>17111</td>\n",
       "      <td>Semi-Urban</td>\n",
       "      <td>COIMBRES08DEL03</td>\n",
       "      <td>35</td>\n",
       "      <td>54</td>\n",
       "    </tr>\n",
       "  </tbody>\n",
       "</table>\n",
       "</div>"
      ],
      "text/plain": [
       "   index           City Delivery_person_ID  Delivery_person_Age  \\\n",
       "0  10160  Metropolitian     KOLRES19DEL02                    30   \n",
       "1  11763  Metropolitian     MYSRES01DEL02                    33   \n",
       "2  10738  Metropolitian     MUMRES01DEL03                    34   \n",
       "3   4788  Metropolitian   COIMBRES19DEL02                    32   \n",
       "4  14496  Metropolitian  RANCHIRES15DEL03                    39   \n",
       "5   6255  Metropolitian     HYDRES11DEL01                    23   \n",
       "6  10833  Metropolitian     MUMRES03DEL03                    21   \n",
       "7  14461  Metropolitian  RANCHIRES15DEL02                    22   \n",
       "8   7604  Metropolitian    INDORES16DEL03                    37   \n",
       "9  14449  Metropolitian  RANCHIRES15DEL01                    30   \n",
       "0  21723          Urban     JAPRES05DEL02                    31   \n",
       "1  24189          Urban    PUNERES14DEL02                    30   \n",
       "2  25627          Urban     VADRES05DEL03                    29   \n",
       "3  21897          Urban     JAPRES12DEL02                    39   \n",
       "4  22027          Urban     JAPRES17DEL01                    27   \n",
       "5  25141          Urban     SURRES08DEL03                    31   \n",
       "6  25129          Urban     SURRES08DEL02                    27   \n",
       "7  18332          Urban     ALHRES07DEL02                    30   \n",
       "8  25081          Urban     SURRES06DEL03                    27   \n",
       "9  22199          Urban     KNPRES06DEL01                    21   \n",
       "0  17712     Semi-Urban     MYSRES12DEL01                    31   \n",
       "1  17204     Semi-Urban     GOARES18DEL01                    39   \n",
       "2  17430     Semi-Urban     JAPRES09DEL01                    39   \n",
       "3  17355     Semi-Urban    INDORES15DEL01                    35   \n",
       "4  17719     Semi-Urban     MYSRES13DEL02                    37   \n",
       "5  18090     Semi-Urban     VADRES18DEL01                    36   \n",
       "6  16807     Semi-Urban     AGRRES17DEL01                    32   \n",
       "7  17294     Semi-Urban     HYDRES19DEL01                    30   \n",
       "8  17345     Semi-Urban    INDORES12DEL02                    30   \n",
       "9  17111     Semi-Urban   COIMBRES08DEL03                    35   \n",
       "\n",
       "   Time_taken(min)  \n",
       "0               54  \n",
       "1               54  \n",
       "2               54  \n",
       "3               54  \n",
       "4               54  \n",
       "5               54  \n",
       "6               54  \n",
       "7               54  \n",
       "8               54  \n",
       "9               54  \n",
       "0               54  \n",
       "1               54  \n",
       "2               54  \n",
       "3               54  \n",
       "4               54  \n",
       "5               54  \n",
       "6               54  \n",
       "7               53  \n",
       "8               53  \n",
       "9               53  \n",
       "0               54  \n",
       "1               54  \n",
       "2               54  \n",
       "3               54  \n",
       "4               54  \n",
       "5               54  \n",
       "6               54  \n",
       "7               54  \n",
       "8               54  \n",
       "9               54  "
      ]
     },
     "execution_count": 99,
     "metadata": {},
     "output_type": "execute_result"
    }
   ],
   "source": [
    "df_aux = pd.DataFrame(data.groupby(['City', 'Delivery_person_ID', 'Delivery_person_Age'])['Time_taken(min)'].max()).reset_index()\n",
    "\n",
    "metropoli = df_aux.loc[df_aux['City'] == 'Metropolitian', :].sort_values('Time_taken(min)', ascending=False).reset_index().head(10)\n",
    "\n",
    "urba = df_aux.loc[df_aux['City'] == 'Urban', :].sort_values('Time_taken(min)', ascending=False).reset_index().head(10)\n",
    "\n",
    "semi_ur = df_aux.loc[df_aux['City'] == 'Semi-Urban', :].sort_values('Time_taken(min)', ascending=False).reset_index().head(10)\n",
    "\n",
    "city_concat = pd.concat([metropoli, urba, semi_ur], axis=0)\n",
    "city_concat"
   ]
  },
  {
   "cell_type": "code",
   "execution_count": 100,
   "id": "8d8d6e44",
   "metadata": {
    "ExecuteTime": {
     "end_time": "2022-12-19T23:17:52.942572Z",
     "start_time": "2022-12-19T23:17:52.922289Z"
    }
   },
   "outputs": [
    {
     "data": {
      "text/plain": [
       "31.233333333333334"
      ]
     },
     "execution_count": 100,
     "metadata": {},
     "output_type": "execute_result"
    }
   ],
   "source": [
    "city_concat['Delivery_person_Age'].mean()"
   ]
  },
  {
   "cell_type": "markdown",
   "id": "ac185303",
   "metadata": {},
   "source": [
    "### H8 - As entregas em dias de eventos são 20% menores que em dias sem eventos"
   ]
  },
  {
   "cell_type": "code",
   "execution_count": 122,
   "id": "c657205f",
   "metadata": {
    "ExecuteTime": {
     "end_time": "2022-12-19T23:31:04.816203Z",
     "start_time": "2022-12-19T23:31:04.792200Z"
    }
   },
   "outputs": [],
   "source": [
    "#Quantidade de entregas em dias de Festival\n",
    "dias_entregas_Festival = data.loc[data['Festival'] == 'Yes', 'Order_Date'].nunique()"
   ]
  },
  {
   "cell_type": "code",
   "execution_count": 123,
   "id": "2d721e18",
   "metadata": {
    "ExecuteTime": {
     "end_time": "2022-12-19T23:31:05.026860Z",
     "start_time": "2022-12-19T23:31:05.002825Z"
    }
   },
   "outputs": [],
   "source": [
    "dias_entregas_sfestival = data.loc[data['Festival'] == 'No', 'Order_Date'].nunique()"
   ]
  },
  {
   "cell_type": "code",
   "execution_count": 129,
   "id": "b9e1d5b0",
   "metadata": {
    "ExecuteTime": {
     "end_time": "2022-12-19T23:34:17.199728Z",
     "start_time": "2022-12-19T23:34:17.175626Z"
    }
   },
   "outputs": [],
   "source": [
    "entregas_festival = data.loc[data['Festival'] == 'Yes', 'ID'].count()"
   ]
  },
  {
   "cell_type": "code",
   "execution_count": 130,
   "id": "40211673",
   "metadata": {
    "ExecuteTime": {
     "end_time": "2022-12-19T23:34:17.383871Z",
     "start_time": "2022-12-19T23:34:17.368395Z"
    }
   },
   "outputs": [],
   "source": [
    "entregas_sem_festival = data.loc[data['Festival'] == 'No', 'ID'].count()"
   ]
  },
  {
   "cell_type": "code",
   "execution_count": 131,
   "id": "41fbabb7",
   "metadata": {
    "ExecuteTime": {
     "end_time": "2022-12-19T23:34:17.555819Z",
     "start_time": "2022-12-19T23:34:17.549231Z"
    }
   },
   "outputs": [],
   "source": [
    "#Média de entregas com Festival\n",
    "media_entregas_Festival = entregas_festival/dias_entregas_Festival"
   ]
  },
  {
   "cell_type": "code",
   "execution_count": 132,
   "id": "12f89018",
   "metadata": {
    "ExecuteTime": {
     "end_time": "2022-12-19T23:34:17.840414Z",
     "start_time": "2022-12-19T23:34:17.833897Z"
    }
   },
   "outputs": [],
   "source": [
    "#Média de entregas sem Festival\n",
    "media_entregas_sem_Festival = entregas_sem_festival/dias_entregas_sfestival"
   ]
  },
  {
   "cell_type": "code",
   "execution_count": 135,
   "id": "f2a42ed7",
   "metadata": {
    "ExecuteTime": {
     "end_time": "2022-12-19T23:34:42.518287Z",
     "start_time": "2022-12-19T23:34:42.510241Z"
    }
   },
   "outputs": [
    {
     "data": {
      "text/plain": [
       "97.99"
      ]
     },
     "execution_count": 135,
     "metadata": {},
     "output_type": "execute_result"
    }
   ],
   "source": [
    "round(((media_entregas_sem_Festival - media_entregas_Festival) / media_entregas_sem_Festival) * 100, 2)"
   ]
  }
 ],
 "metadata": {
  "kernelspec": {
   "display_name": "Python 3 (ipykernel)",
   "language": "python",
   "name": "python3"
  },
  "language_info": {
   "codemirror_mode": {
    "name": "ipython",
    "version": 3
   },
   "file_extension": ".py",
   "mimetype": "text/x-python",
   "name": "python",
   "nbconvert_exporter": "python",
   "pygments_lexer": "ipython3",
   "version": "3.9.12"
  }
 },
 "nbformat": 4,
 "nbformat_minor": 5
}
